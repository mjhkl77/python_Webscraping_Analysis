{
 "cells": [
  {
   "cell_type": "markdown",
   "metadata": {},
   "source": [
    "### requests의  PrepardRequest\n",
    "* [PrepardRequest](https://requests.readthedocs.io/en/latest/user/advanced/#prepared-requests)"
   ]
  },
  {
   "cell_type": "code",
   "execution_count": 12,
   "metadata": {},
   "outputs": [
    {
     "name": "stdout",
     "output_type": "stream",
     "text": [
      "send original text :  Yesterday all my troubles seemed so far away.\n",
      "에러 발생  {'errorMessage': 'papago/n2mt : API does not exist. (존재하지 않는 API입니다.)', 'errorCode': '051'}\n",
      "job completed..\n"
     ]
    }
   ],
   "source": [
    "from requests import Request, Session\n",
    "\n",
    "NAVER_CLIENT_ID = 'ZAZjlfXS4P5FW5DtE0wg'\n",
    "NAVER_CLIENT_SECRET = 'RNbe1ikysg'\n",
    "\n",
    "\n",
    "def get_text_list():\n",
    "    lists = []\n",
    "    with open('data/yesterday.txt', 'r',encoding=\"utf8\") as file:\n",
    "        contents = file.read()\n",
    "        lists = contents.split(\"\\n\")\n",
    "\n",
    "    return lists\n",
    "\n",
    "def save_to_file(list):\n",
    "    with open('data/yesterday.translated_ver2.txt', 'w',encoding=\"utf8\") as file:\n",
    "        file.writelines(list)\n",
    "\n",
    "def main():\n",
    "    # session 객체생성\n",
    "    session = Session()\n",
    "    # 요청헤더 dict 선언\n",
    "    headers = {\n",
    "        'X-Naver-Client-Id': NAVER_CLIENT_ID,\n",
    "        'X-Naver-Client-Secret': NAVER_CLIENT_SECRET,\n",
    "    }\n",
    "    url = 'https://openapi.naver.com/v1/papago/n2mt'\n",
    "\n",
    "    lists = get_text_list()\n",
    "    lists = [ i for i in lists if len(i) != 0] # '' 문자열 제거\n",
    "\n",
    "    result_list = []\n",
    "    payload = {\n",
    "        'source': 'en',\n",
    "        'target': 'ko',\n",
    "    }\n",
    "    for en_text in lists:\n",
    "        payload['text'] = en_text\n",
    "        # request 객체생성\n",
    "        req = Request('POST', url, data=payload, headers=headers)\n",
    "        # PreparedRequest 객체생성\n",
    "        prepared = req.prepare()\n",
    "        #print(type(prepared))\n",
    "        # request를 보내고 response 객체생성\n",
    "        res = session.send(prepared)\n",
    "        \n",
    "        print('send original text : ', en_text)\n",
    "        ko_text = ''\n",
    "        \n",
    "        try:\n",
    "            ko_text = res.json()['message']['result']['translatedText']\n",
    "        except Exception as err:\n",
    "            print('에러 발생 ',res.json())\n",
    "            break\n",
    "\n",
    "        print('translated to : ', ko_text)\n",
    "        result_list.append(en_text+ '\\n')\n",
    "        result_list.append(ko_text + '\\n')\n",
    "\n",
    "    save_to_file(result_list)\n",
    "    print('job completed..')\n",
    "\n",
    "\n",
    "main()"
   ]
  },
  {
   "cell_type": "markdown",
   "metadata": {},
   "source": [
    "#### googletrans 라이브러리 사용하여 번역하기"
   ]
  },
  {
   "cell_type": "code",
   "execution_count": null,
   "metadata": {},
   "outputs": [
    {
     "name": "stdout",
     "output_type": "stream",
     "text": [
      "Note: you may need to restart the kernel to use updated packages.\n"
     ]
    }
   ],
   "source": [
    "%pip install -q googletrans"
   ]
  },
  {
   "cell_type": "code",
   "execution_count": 7,
   "metadata": {},
   "outputs": [
    {
     "name": "stdout",
     "output_type": "stream",
     "text": [
      "Name: googletrans\n",
      "Version: 4.0.2\n",
      "Summary: An unofficial Google Translate API for Python\n",
      "Home-page: https://github.com/ssut/py-googletrans\n",
      "Author: \n",
      "Author-email: Suhun Han <suhunhankr@gmail.com>\n",
      "License: \n",
      "Location: c:\\Users\\user\\anaconda3\\Lib\\site-packages\n",
      "Requires: httpx\n",
      "Required-by: \n",
      "Note: you may need to restart the kernel to use updated packages.\n"
     ]
    }
   ],
   "source": [
    "%pip show googletrans"
   ]
  },
  {
   "cell_type": "code",
   "execution_count": 13,
   "metadata": {},
   "outputs": [
    {
     "name": "stdout",
     "output_type": "stream",
     "text": [
      "원문: Yesterday all my troubles seemed so far away.\n"
     ]
    },
    {
     "ename": "AttributeError",
     "evalue": "'coroutine' object has no attribute 'text'",
     "output_type": "error",
     "traceback": [
      "\u001b[1;31m---------------------------------------------------------------------------\u001b[0m",
      "\u001b[1;31mAttributeError\u001b[0m                            Traceback (most recent call last)",
      "Cell \u001b[1;32mIn[13], line 40\u001b[0m\n\u001b[0;32m     37\u001b[0m     save_to_file(result_list)\n\u001b[0;32m     38\u001b[0m     \u001b[38;5;28mprint\u001b[39m(\u001b[38;5;124m'\u001b[39m\u001b[38;5;124m번역 완료!\u001b[39m\u001b[38;5;124m'\u001b[39m)\n\u001b[1;32m---> 40\u001b[0m main()\n",
      "Cell \u001b[1;32mIn[13], line 31\u001b[0m, in \u001b[0;36mmain\u001b[1;34m()\u001b[0m\n\u001b[0;32m     29\u001b[0m \u001b[38;5;66;03m# 번역 요청청\u001b[39;00m\n\u001b[0;32m     30\u001b[0m translated \u001b[38;5;241m=\u001b[39m translator\u001b[38;5;241m.\u001b[39mtranslate(en_text, src\u001b[38;5;241m=\u001b[39m\u001b[38;5;124m'\u001b[39m\u001b[38;5;124men\u001b[39m\u001b[38;5;124m'\u001b[39m, dest\u001b[38;5;241m=\u001b[39m\u001b[38;5;124m'\u001b[39m\u001b[38;5;124mko\u001b[39m\u001b[38;5;124m'\u001b[39m)\n\u001b[1;32m---> 31\u001b[0m ko_text \u001b[38;5;241m=\u001b[39m translated\u001b[38;5;241m.\u001b[39mtext\n\u001b[0;32m     32\u001b[0m \u001b[38;5;28mprint\u001b[39m(\u001b[38;5;124m'\u001b[39m\u001b[38;5;124m번역:\u001b[39m\u001b[38;5;124m'\u001b[39m, ko_text)\n\u001b[0;32m     34\u001b[0m result_list\u001b[38;5;241m.\u001b[39mappend(en_text \u001b[38;5;241m+\u001b[39m \u001b[38;5;124m'\u001b[39m\u001b[38;5;130;01m\\n\u001b[39;00m\u001b[38;5;124m'\u001b[39m)\n",
      "\u001b[1;31mAttributeError\u001b[0m: 'coroutine' object has no attribute 'text'"
     ]
    }
   ],
   "source": [
    "from googletrans import Translator\n",
    "\n",
    "def get_text_list():\n",
    "    lists = []\n",
    "    with open('data/yesterday.txt', 'r', encoding=\"utf8\") as file:\n",
    "        contents = file.read()\n",
    "        lists = contents.split(\"\\n\")\n",
    "    return lists\n",
    "\n",
    "\n",
    "def save_to_file(list):\n",
    "    with open('data/yesterday_translated_google.txt', 'w', encoding=\"utf8\") as file:\n",
    "        # list를 file로 저장\n",
    "        file.writelines(list)\n",
    "\n",
    "def main():\n",
    "    # Translator 객체생성\n",
    "    translator = Translator()\n",
    "\n",
    "    # txt 파일을 읽어서 list로 저장하기\n",
    "    lists = get_text_list()\n",
    "    # empty string 제거\n",
    "    lists = [i for i in lists if len(i.strip()) != 0]  # 공백 제거\n",
    "\n",
    "    result_list = []\n",
    "\n",
    "    for en_text in lists:\n",
    "        print('원문:', en_text)\n",
    "        # 번역 요청청\n",
    "        translated = translator.translate(en_text, src='en', dest='ko')\n",
    "        ko_text = translated.text\n",
    "        print('번역:', ko_text)\n",
    "\n",
    "        result_list.append(en_text + '\\n')\n",
    "        result_list.append(ko_text + '\\n')\n",
    "\n",
    "    save_to_file(result_list)\n",
    "    print('번역 완료!')\n",
    "\n",
    "main()\n"
   ]
  }
 ],
 "metadata": {
  "kernelspec": {
   "display_name": "base",
   "language": "python",
   "name": "python3"
  },
  "language_info": {
   "codemirror_mode": {
    "name": "ipython",
    "version": 3
   },
   "file_extension": ".py",
   "mimetype": "text/x-python",
   "name": "python",
   "nbconvert_exporter": "python",
   "pygments_lexer": "ipython3",
   "version": "3.12.7"
  }
 },
 "nbformat": 4,
 "nbformat_minor": 4
}
