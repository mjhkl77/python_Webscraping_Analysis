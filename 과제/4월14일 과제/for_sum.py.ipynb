{
 "cells": [
  {
   "cell_type": "code",
   "execution_count": 1,
   "id": "d9af490d",
   "metadata": {},
   "outputs": [
    {
     "name": "stdout",
     "output_type": "stream",
     "text": [
      "3의 배수의 합: 1683\n"
     ]
    }
   ],
   "source": [
    "# for_sum.py\n",
    "\n",
    "total = 0\n",
    "\n",
    "for i in range(1, 101):\n",
    "    if i % 3 == 0:\n",
    "        total += i\n",
    "\n",
    "print(\"3의 배수의 합:\", total)\n"
   ]
  }
 ],
 "metadata": {
  "kernelspec": {
   "display_name": "base",
   "language": "python",
   "name": "python3"
  },
  "language_info": {
   "codemirror_mode": {
    "name": "ipython",
    "version": 3
   },
   "file_extension": ".py",
   "mimetype": "text/x-python",
   "name": "python",
   "nbconvert_exporter": "python",
   "pygments_lexer": "ipython3",
   "version": "3.12.7"
  }
 },
 "nbformat": 4,
 "nbformat_minor": 5
}
