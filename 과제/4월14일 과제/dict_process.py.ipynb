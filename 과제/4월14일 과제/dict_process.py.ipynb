{
 "cells": [
  {
   "cell_type": "code",
   "execution_count": 1,
   "id": "b28c4ee8",
   "metadata": {},
   "outputs": [
    {
     "name": "stdout",
     "output_type": "stream",
     "text": [
      "나이: 30\n",
      "과목들: ['math', 'science', 'history']\n",
      "{'apple': 5, 'banana': 5}\n",
      "[1, 2, 5, 8, 9]\n"
     ]
    }
   ],
   "source": [
    "# dict_process.py\n",
    "\n",
    "# 1. {\"name\": \"John\", \"age\": 30} 딕셔너리에서 \"age\" 값 출력\n",
    "person = {\"name\": \"John\", \"age\": 30}\n",
    "print(\"나이:\", person[\"age\"])\n",
    "\n",
    "# 2. {\"math\": 90, \"science\": 85, \"history\": 78}에서 모든 과목명 출력\n",
    "scores = {\"math\": 90, \"science\": 85, \"history\": 78}\n",
    "print(\"과목들:\", list(scores.keys()))\n",
    "\n",
    "# 3. {'apple': 3, 'banana': 5}에서 apple 값을 2 증가\n",
    "fruits = {'apple': 3, 'banana': 5}\n",
    "fruits['apple'] += 2\n",
    "print(fruits)\n",
    "\n",
    "# 4. [5, 2, 8, 1, 9] 오름차순 정렬\n",
    "numbers = [5, 2, 8, 1, 9]\n",
    "numbers.sort()\n",
    "print(numbers)\n"
   ]
  }
 ],
 "metadata": {
  "kernelspec": {
   "display_name": "base",
   "language": "python",
   "name": "python3"
  },
  "language_info": {
   "codemirror_mode": {
    "name": "ipython",
    "version": 3
   },
   "file_extension": ".py",
   "mimetype": "text/x-python",
   "name": "python",
   "nbconvert_exporter": "python",
   "pygments_lexer": "ipython3",
   "version": "3.12.7"
  }
 },
 "nbformat": 4,
 "nbformat_minor": 5
}
