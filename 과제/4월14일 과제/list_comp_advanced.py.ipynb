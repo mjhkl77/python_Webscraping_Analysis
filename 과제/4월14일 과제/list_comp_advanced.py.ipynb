{
 "cells": [
  {
   "cell_type": "code",
   "execution_count": 1,
   "id": "1b95f956",
   "metadata": {},
   "outputs": [
    {
     "name": "stdout",
     "output_type": "stream",
     "text": [
      "[5.5, 6.0, 6.5, 7.0, 7.5]\n"
     ]
    }
   ],
   "source": [
    "# list_comp_advanced.py\n",
    "\n",
    "numbers = [1, 2, 3, 4, 5]\n",
    "result = [(x + 10) / 2 for x in numbers]\n",
    "\n",
    "print(result)\n"
   ]
  }
 ],
 "metadata": {
  "kernelspec": {
   "display_name": "base",
   "language": "python",
   "name": "python3"
  },
  "language_info": {
   "codemirror_mode": {
    "name": "ipython",
    "version": 3
   },
   "file_extension": ".py",
   "mimetype": "text/x-python",
   "name": "python",
   "nbconvert_exporter": "python",
   "pygments_lexer": "ipython3",
   "version": "3.12.7"
  }
 },
 "nbformat": 4,
 "nbformat_minor": 5
}
