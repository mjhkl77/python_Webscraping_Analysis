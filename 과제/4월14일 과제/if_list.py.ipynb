{
 "cells": [
  {
   "cell_type": "code",
   "execution_count": 1,
   "id": "955a5076",
   "metadata": {},
   "outputs": [
    {
     "name": "stdout",
     "output_type": "stream",
     "text": [
      "합격: 70\n",
      "합격: 85\n",
      "합격: 90\n",
      "합격: 78\n"
     ]
    }
   ],
   "source": [
    "# if_list.py\n",
    "\n",
    "scores = [70, 85, 90, 55, 78]\n",
    "\n",
    "for score in scores:\n",
    "    if score >= 60:\n",
    "        print(f\"합격: {score}\")\n"
   ]
  }
 ],
 "metadata": {
  "kernelspec": {
   "display_name": "base",
   "language": "python",
   "name": "python3"
  },
  "language_info": {
   "codemirror_mode": {
    "name": "ipython",
    "version": 3
   },
   "file_extension": ".py",
   "mimetype": "text/x-python",
   "name": "python",
   "nbconvert_exporter": "python",
   "pygments_lexer": "ipython3",
   "version": "3.12.7"
  }
 },
 "nbformat": 4,
 "nbformat_minor": 5
}
