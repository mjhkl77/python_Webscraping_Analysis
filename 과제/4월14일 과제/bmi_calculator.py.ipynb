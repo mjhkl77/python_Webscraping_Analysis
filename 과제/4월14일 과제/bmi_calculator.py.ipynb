{
 "cells": [
  {
   "cell_type": "code",
   "execution_count": null,
   "id": "6e4866e4",
   "metadata": {},
   "outputs": [],
   "source": [
    "# 사용자 입력 받기\n",
    "weight = float(input(\"체중(kg): \"))      \n",
    "height_cm = float(input(\"키(cm): \"))\n"
   ]
  },
  {
   "cell_type": "code",
   "execution_count": 5,
   "id": "3020ff9a",
   "metadata": {},
   "outputs": [],
   "source": [
    "# BMI 계산\n",
    "height_m = height_cm / 100\n",
    "bmi = weight / (height_m ** 2)\n"
   ]
  },
  {
   "cell_type": "code",
   "execution_count": 6,
   "id": "8749cdcd",
   "metadata": {},
   "outputs": [
    {
     "name": "stdout",
     "output_type": "stream",
     "text": [
      "BMI: 22.9\n"
     ]
    }
   ],
   "source": [
    "#결과 출력\n",
    "print(f\"BMI: {bmi:.1f}\")\n"
   ]
  }
 ],
 "metadata": {
  "kernelspec": {
   "display_name": "base",
   "language": "python",
   "name": "python3"
  },
  "language_info": {
   "codemirror_mode": {
    "name": "ipython",
    "version": 3
   },
   "file_extension": ".py",
   "mimetype": "text/x-python",
   "name": "python",
   "nbconvert_exporter": "python",
   "pygments_lexer": "ipython3",
   "version": "3.12.7"
  }
 },
 "nbformat": 4,
 "nbformat_minor": 5
}
