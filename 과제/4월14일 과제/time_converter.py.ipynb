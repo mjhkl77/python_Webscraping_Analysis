{
 "cells": [
  {
   "cell_type": "code",
   "execution_count": 1,
   "id": "ff8d31aa",
   "metadata": {},
   "outputs": [
    {
     "name": "stdout",
     "output_type": "stream",
     "text": [
      "12345초는 3시간 25분 45초입니다.\n"
     ]
    }
   ],
   "source": [
    "# time_converter.py\n",
    "\n",
    "total_seconds = 12345\n",
    "\n",
    "# 시간 계산\n",
    "hours = total_seconds // 3600\n",
    "remaining_seconds = total_seconds % 3600\n",
    "\n",
    "# 분과 초 계산\n",
    "minutes = remaining_seconds // 60\n",
    "seconds = remaining_seconds % 60\n",
    "\n",
    "# 결과 출력\n",
    "print(f\"{total_seconds}초는 {hours}시간 {minutes}분 {seconds}초입니다.\")\n"
   ]
  }
 ],
 "metadata": {
  "kernelspec": {
   "display_name": "base",
   "language": "python",
   "name": "python3"
  },
  "language_info": {
   "codemirror_mode": {
    "name": "ipython",
    "version": 3
   },
   "file_extension": ".py",
   "mimetype": "text/x-python",
   "name": "python",
   "nbconvert_exporter": "python",
   "pygments_lexer": "ipython3",
   "version": "3.12.7"
  }
 },
 "nbformat": 4,
 "nbformat_minor": 5
}
