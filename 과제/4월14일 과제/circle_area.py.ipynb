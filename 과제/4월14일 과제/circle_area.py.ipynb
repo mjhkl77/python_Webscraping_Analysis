{
 "cells": [
  {
   "cell_type": "code",
   "execution_count": 1,
   "id": "0fbf7cef",
   "metadata": {},
   "outputs": [
    {
     "name": "stdout",
     "output_type": "stream",
     "text": [
      "원의 넓이: 78.5\n"
     ]
    }
   ],
   "source": [
    "# circle_area.py\n",
    "\n",
    "# 변수 선언\n",
    "pi = 3.14\n",
    "radius = 5\n",
    "\n",
    "# 원의 넓이 계산 (공식: π × 반지름²)\n",
    "area = pi * radius ** 2\n",
    "\n",
    "# 결과 출력\n",
    "print(\"원의 넓이:\", area)\n"
   ]
  }
 ],
 "metadata": {
  "kernelspec": {
   "display_name": "base",
   "language": "python",
   "name": "python3"
  },
  "language_info": {
   "codemirror_mode": {
    "name": "ipython",
    "version": 3
   },
   "file_extension": ".py",
   "mimetype": "text/x-python",
   "name": "python",
   "nbconvert_exporter": "python",
   "pygments_lexer": "ipython3",
   "version": "3.12.7"
  }
 },
 "nbformat": 4,
 "nbformat_minor": 5
}
