{
 "cells": [
  {
   "cell_type": "code",
   "execution_count": 1,
   "id": "582e56ab",
   "metadata": {},
   "outputs": [
    {
     "name": "stdout",
     "output_type": "stream",
     "text": [
      "Hello World\n",
      "HELLO WORLD\n",
      "World\n",
      "['Python', 'is', 'fun']\n",
      "ace\n",
      "HelloHelloHello\n"
     ]
    }
   ],
   "source": [
    "# string_process.py\n",
    "\n",
    "# 1. \"Hello\"와 \"World\"를 연결하여 \"Hello World\" 출력\n",
    "text = \"Hello\" + \" \" + \"World\"\n",
    "print(text)\n",
    "\n",
    "# 2. 대문자로 변환\n",
    "print(text.upper())\n",
    "\n",
    "# 3. \"World\"만 슬라이싱하여 출력\n",
    "print(text[6:])\n",
    "\n",
    "# 4. \"Python is fun\"을 공백 기준으로 분리\n",
    "sentence = \"Python is fun\"\n",
    "print(sentence.split())\n",
    "\n",
    "# 5. \"abcdef\"에서 짝수 인덱스(0, 2, 4)의 문자들만 출력\n",
    "sample = \"abcdef\"\n",
    "print(sample[0::2])\n",
    "\n",
    "# 6. \"Hello\"를 3번 반복하여 출력\n",
    "print(\"Hello\" * 3)\n"
   ]
  }
 ],
 "metadata": {
  "kernelspec": {
   "display_name": "base",
   "language": "python",
   "name": "python3"
  },
  "language_info": {
   "codemirror_mode": {
    "name": "ipython",
    "version": 3
   },
   "file_extension": ".py",
   "mimetype": "text/x-python",
   "name": "python",
   "nbconvert_exporter": "python",
   "pygments_lexer": "ipython3",
   "version": "3.12.7"
  }
 },
 "nbformat": 4,
 "nbformat_minor": 5
}
