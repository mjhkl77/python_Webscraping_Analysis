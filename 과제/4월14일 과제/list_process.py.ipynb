{
 "cells": [
  {
   "cell_type": "code",
   "execution_count": 1,
   "id": "81266311",
   "metadata": {},
   "outputs": [
    {
     "name": "stdout",
     "output_type": "stream",
     "text": [
      "['apple', 'banana', 'cherry', 'orange']\n",
      "합계: 60\n",
      "[5, 4, 3, 2, 1]\n",
      "[1, 2, 5, 8, 9]\n"
     ]
    }
   ],
   "source": [
    "# list_process.py\n",
    "\n",
    "# 1. [\"apple\", \"banana\", \"cherry\"] 리스트에 \"orange\" 추가\n",
    "fruits = [\"apple\", \"banana\", \"cherry\"]\n",
    "fruits.append(\"orange\")\n",
    "print(fruits)\n",
    "\n",
    "# 2. [10, 20, 30] 리스트의 모든 요소의 합 구하기\n",
    "numbers = [10, 20, 30]\n",
    "print(\"합계:\", sum(numbers))\n",
    "\n",
    "# 3. [1, 2, 3, 4, 5] 리스트를 역순으로 출력\n",
    "nums = [1, 2, 3, 4, 5]\n",
    "print(nums[::-1])\n",
    "\n",
    "# 4. [5, 2, 8, 1, 9] 리스트 오름차순 정렬\n",
    "unsorted = [5, 2, 8, 1, 9]\n",
    "unsorted.sort()\n",
    "print(unsorted)\n"
   ]
  }
 ],
 "metadata": {
  "kernelspec": {
   "display_name": "base",
   "language": "python",
   "name": "python3"
  },
  "language_info": {
   "codemirror_mode": {
    "name": "ipython",
    "version": 3
   },
   "file_extension": ".py",
   "mimetype": "text/x-python",
   "name": "python",
   "nbconvert_exporter": "python",
   "pygments_lexer": "ipython3",
   "version": "3.12.7"
  }
 },
 "nbformat": 4,
 "nbformat_minor": 5
}
