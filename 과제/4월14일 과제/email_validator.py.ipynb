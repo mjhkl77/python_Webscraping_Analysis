{
 "cells": [
  {
   "cell_type": "code",
   "execution_count": 1,
   "id": "ad7e3e3e",
   "metadata": {},
   "outputs": [
    {
     "name": "stdout",
     "output_type": "stream",
     "text": [
      "이메일 주소: user@example.com\n",
      "유효함\n",
      "\n",
      "이메일 주소: user@example\n",
      "유효하지 않음\n",
      "\n"
     ]
    }
   ],
   "source": [
    "# email_validator.py\n",
    "\n",
    "# 이메일 리스트 (예시)\n",
    "emails = [\"user@example.com\", \"user@example\"]\n",
    "\n",
    "for email in emails:\n",
    "    print(f\"이메일 주소: {email}\")\n",
    "    if \"@\" in email and \".\" in email:\n",
    "        print(\"유효함\\n\")\n",
    "    else:\n",
    "        print(\"유효하지 않음\\n\")\n"
   ]
  }
 ],
 "metadata": {
  "kernelspec": {
   "display_name": "base",
   "language": "python",
   "name": "python3"
  },
  "language_info": {
   "codemirror_mode": {
    "name": "ipython",
    "version": 3
   },
   "file_extension": ".py",
   "mimetype": "text/x-python",
   "name": "python",
   "nbconvert_exporter": "python",
   "pygments_lexer": "ipython3",
   "version": "3.12.7"
  }
 },
 "nbformat": 4,
 "nbformat_minor": 5
}
