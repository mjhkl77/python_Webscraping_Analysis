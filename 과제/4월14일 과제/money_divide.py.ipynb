{
 "cells": [
  {
   "cell_type": "code",
   "execution_count": 1,
   "id": "cd65623a",
   "metadata": {},
   "outputs": [
    {
     "name": "stdout",
     "output_type": "stream",
     "text": [
      "각자 3333원을 받고 1원이 남습니다\n"
     ]
    }
   ],
   "source": [
    "# money_divide.py\n",
    "\n",
    "total_money = 10000\n",
    "people = 3\n",
    "\n",
    "each = total_money // people\n",
    "remainder = total_money % people\n",
    "\n",
    "print(f\"각자 {each}원을 받고 {remainder}원이 남습니다\")\n"
   ]
  }
 ],
 "metadata": {
  "kernelspec": {
   "display_name": "base",
   "language": "python",
   "name": "python3"
  },
  "language_info": {
   "codemirror_mode": {
    "name": "ipython",
    "version": 3
   },
   "file_extension": ".py",
   "mimetype": "text/x-python",
   "name": "python",
   "nbconvert_exporter": "python",
   "pygments_lexer": "ipython3",
   "version": "3.12.7"
  }
 },
 "nbformat": 4,
 "nbformat_minor": 5
}
