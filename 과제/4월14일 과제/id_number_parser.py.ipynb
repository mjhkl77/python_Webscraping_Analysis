{
 "cells": [
  {
   "cell_type": "code",
   "execution_count": 1,
   "id": "98bb0d67",
   "metadata": {},
   "outputs": [
    {
     "name": "stdout",
     "output_type": "stream",
     "text": [
      "1990년 12월 12일\n"
     ]
    }
   ],
   "source": [
    "# id_number_parser.py\n",
    "\n",
    "id_number = \"901212-1234567\"\n",
    "\n",
    "# 생년, 월, 일 추출\n",
    "yy = id_number[0:2]\n",
    "mm = id_number[2:4]\n",
    "dd = id_number[4:6]\n",
    "gender_code = id_number[7]\n",
    "\n",
    "# 성별 코드로 세기 판단 (1,2: 1900년대 / 3,4: 2000년대)\n",
    "if gender_code in ['1', '2']:\n",
    "    year_prefix = \"19\"\n",
    "elif gender_code in ['3', '4']:\n",
    "    year_prefix = \"20\"\n",
    "else:\n",
    "    year_prefix = \"19\"  # 예외 처리를 위해 기본값\n",
    "\n",
    "full_year = year_prefix + yy\n",
    "\n",
    "# 출력\n",
    "print(f\"{full_year}년 {mm}월 {dd}일\")\n"
   ]
  }
 ],
 "metadata": {
  "kernelspec": {
   "display_name": "base",
   "language": "python",
   "name": "python3"
  },
  "language_info": {
   "codemirror_mode": {
    "name": "ipython",
    "version": 3
   },
   "file_extension": ".py",
   "mimetype": "text/x-python",
   "name": "python",
   "nbconvert_exporter": "python",
   "pygments_lexer": "ipython3",
   "version": "3.12.7"
  }
 },
 "nbformat": 4,
 "nbformat_minor": 5
}
