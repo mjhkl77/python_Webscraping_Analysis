{
 "cells": [
  {
   "cell_type": "markdown",
   "id": "eb0bfa44",
   "metadata": {},
   "source": [
    "## 1. 뉴스제목 가져오기\n",
    "* user-agent 요청헤더를 반드시 설정해야 한다."
   ]
  },
  {
   "cell_type": "code",
   "execution_count": 1,
   "id": "f0d27781",
   "metadata": {},
   "outputs": [
    {
     "name": "stdout",
     "output_type": "stream",
     "text": [
      "Name: requests\n",
      "Version: 2.32.3\n",
      "Summary: Python HTTP for Humans.\n",
      "Home-page: https://requests.readthedocs.io\n",
      "Author: Kenneth Reitz\n",
      "Author-email: me@kennethreitz.org\n",
      "License: Apache-2.0\n",
      "Location: c:\\Users\\user\\anaconda3\\Lib\\site-packages\n",
      "Requires: certifi, charset-normalizer, idna, urllib3\n",
      "Required-by: anaconda-catalogs, anaconda-client, anaconda-cloud-auth, anaconda-project, conda, conda-build, conda-repo-cli, conda_package_streaming, cookiecutter, datashader, jupyterlab_server, panel, requests-file, requests-toolbelt, Sphinx, streamlit, tldextract\n",
      "Note: you may need to restart the kernel to use updated packages.\n"
     ]
    }
   ],
   "source": [
    "# requests 라이브러리 설치여부 확인\n",
    "%pip show requests"
   ]
  },
  {
   "cell_type": "code",
   "execution_count": 2,
   "id": "f7798ea8",
   "metadata": {},
   "outputs": [
    {
     "name": "stdout",
     "output_type": "stream",
     "text": [
      "Name: beautifulsoup4\n",
      "Version: 4.12.3\n",
      "Summary: Screen-scraping library\n",
      "Home-page: https://www.crummy.com/software/BeautifulSoup/bs4/\n",
      "Author: \n",
      "Author-email: Leonard Richardson <leonardr@segfault.org>\n",
      "License: MIT License\n",
      "Location: c:\\Users\\user\\anaconda3\\Lib\\site-packages\n",
      "Requires: soupsieve\n",
      "Required-by: conda-build, nbconvert\n",
      "Note: you may need to restart the kernel to use updated packages.\n"
     ]
    }
   ],
   "source": [
    "# beautifulsoup4 라이브러리 설치여부 확인\n",
    "%pip show beautifulsoup4"
   ]
  },
  {
   "cell_type": "code",
   "execution_count": 3,
   "id": "bf80a429",
   "metadata": {},
   "outputs": [],
   "source": [
    "# reqeusts, bs4 import\n",
    "import requests\n",
    "import bs4\n",
    "# BeautifulSoup 클래스 import\n",
    "from bs4 import BeautifulSoup"
   ]
  },
  {
   "cell_type": "code",
   "execution_count": 4,
   "id": "9788d6ac",
   "metadata": {},
   "outputs": [
    {
     "name": "stdout",
     "output_type": "stream",
     "text": [
      "requests 버전 2.32.3\n",
      "beautifulsoup4 버전 2.32.3\n"
     ]
    }
   ],
   "source": [
    "# requests, bs4 버전 확인하기\n",
    "print(f'requests 버전 {requests.__version__}')\n",
    "print(f'beautifulsoup4 버전 {requests.__version__}')"
   ]
  },
  {
   "cell_type": "markdown",
   "id": "ccb91def-cde3-4aeb-b0e5-2e7233500333",
   "metadata": {},
   "source": [
    "### 1. 뉴스 제목 추출하기"
   ]
  },
  {
   "cell_type": "code",
   "execution_count": null,
   "id": "94c12fd6",
   "metadata": {},
   "outputs": [
    {
     "name": "stdout",
     "output_type": "stream",
     "text": [
      "https://news.naver.com/section/105\n",
      "<Response [200]>\n",
      "<class 'requests.models.Response'>\n",
      "200 True\n",
      "86\n",
      "<class 'bs4.element.ResultSet'>\n",
      "https://n.news.naver.com/mnews/article/015/0005118061 '상폐 위기' 위믹스 \"거래소에 최선 다해 소명\"\n",
      "https://n.news.naver.com/mnews/article/comment/015/0005118061 \n",
      "https://n.news.naver.com/mnews/article/003/0013179510 \"미래 시장 선점\" 네이버·삼성·SK·LG 등 가세[AI 에이전트③]\n",
      "https://n.news.naver.com/mnews/article/comment/003/0013179510 \n",
      "https://n.news.naver.com/mnews/article/014/0005334854 \"이걸로 장사를 한다고?\"...번개장터, 당근까지 난리난 상황\n",
      "https://n.news.naver.com/mnews/article/comment/014/0005334854 \n",
      "https://n.news.naver.com/mnews/article/023/0003899081 카카오엔터 기업 공개 어렵자 결국 매각으로 선회\n",
      "https://n.news.naver.com/mnews/article/comment/023/0003899081 \n",
      "https://n.news.naver.com/mnews/article/030/0003302531 넥슨게임즈 출범 3년... 신작 투자로 글로벌 도약 박차\n",
      "https://n.news.naver.com/mnews/article/comment/030/0003302531 \n",
      "https://n.news.naver.com/mnews/article/020/0003627722 해커인 척 LLM 취약점 찾아낸다, AI 레드팀[생성 AI 길라잡이]\n",
      "https://n.news.naver.com/mnews/article/comment/020/0003627722 \n",
      "https://n.news.naver.com/mnews/article/092/0002370289 시리 출시 미룬 애플, 미·캐나다서 집단소송 당해\n",
      "https://n.news.naver.com/mnews/article/comment/092/0002370289 \n",
      "https://n.news.naver.com/mnews/article/138/0002194513 [취재수첩] '안방 호랑이' 삼성, 일본서 확인한 현실은 냉혹\n",
      "https://n.news.naver.com/mnews/article/comment/138/0002194513 \n",
      "https://n.news.naver.com/mnews/article/092/0002370352 연기됐던 AI 시리, 올가을 출시 가능성↑\n",
      "https://n.news.naver.com/mnews/article/comment/092/0002370352 \n",
      "https://n.news.naver.com/mnews/article/018/0005986090 '유예'에 투심 반짝…쓰리빌리언, 프레스티지 10%↑[바이오맥짚기]\n",
      "https://n.news.naver.com/mnews/article/comment/018/0005986090 \n",
      "https://n.news.naver.com/mnews/article/001/0015325859 [위클리 스마트] 소비자는 AI 스마트폰에 추가금을 내고 싶지 않다\n",
      "https://n.news.naver.com/mnews/article/comment/001/0015325859 \n",
      "https://n.news.naver.com/mnews/article/665/0000004825 비서 '시리' 앞에서 우왕좌왕: 혁신 아이콘 애플의 굴욕 [IT+]\n",
      "https://n.news.naver.com/mnews/article/comment/665/0000004825 \n",
      "https://n.news.naver.com/mnews/article/018/0005986082 술자리 면접 논란까지…백종원 더본코리아, 고용부 조사 받는다\n",
      "https://n.news.naver.com/mnews/article/comment/018/0005986082 \n",
      "https://n.news.naver.com/mnews/article/003/0013179538 여의도 애플스토어 옆에 들어설 샤오미 매장…韓 고급화 전략 통할까\n",
      "https://n.news.naver.com/mnews/article/comment/003/0013179538 \n",
      "https://n.news.naver.com/mnews/article/011/0004473281 AI 개발에 양자컴 쓴다는 중국…거세지는 양자굴기 [김윤수의 퀀텀점프]\n",
      "https://n.news.naver.com/mnews/article/comment/011/0004473281 \n",
      "https://n.news.naver.com/mnews/article/001/0015325823 '구글 클라우드 넥스트' 폐막…AI 인프라 도약 선언한 구글\n",
      "https://n.news.naver.com/mnews/article/comment/001/0015325823 \n",
      "https://n.news.naver.com/mnews/article/008/0005179495 \"정보보안? 그게 왜 중요해?\"... 해킹·정보유출 잇따른 이유 있었다\n",
      "https://n.news.naver.com/mnews/article/comment/008/0005179495 \n",
      "https://n.news.naver.com/mnews/article/138/0002194512 ‘닌텐도 스위치2’ 전용 인기 타이틀 ‘美 관세게임’…베트남산 ‘부랴부랴’\n",
      "https://n.news.naver.com/mnews/article/comment/138/0002194512 \n",
      "https://n.news.naver.com/mnews/article/138/0002194511 中 반도체 원산지 규정 수정해 美 반격…TSMC 선긋기·국내 파장은? [소부장반차장]\n",
      "https://n.news.naver.com/mnews/article/comment/138/0002194511 \n",
      "https://n.news.naver.com/mnews/article/092/0002370344 [1분건강] 파킨슨병, 조기 발견·치료로 진행 늦출 수 있어\n",
      "https://n.news.naver.com/mnews/article/comment/092/0002370344 \n",
      "https://n.news.naver.com/mnews/article/092/0002370343 1년새 4배 큰 반값택배...옥의 티 ‘느린 배송’ 바꾼다\n",
      "https://n.news.naver.com/mnews/article/comment/092/0002370343 \n",
      "https://n.news.naver.com/mnews/article/031/0000923983 카카오엔터테인먼트 어떻게⋯카카오 \"회사 주주와 다양한 방안 검토\"\n",
      "https://n.news.naver.com/mnews/article/comment/031/0000923983 \n",
      "https://n.news.naver.com/mnews/article/584/0000031852 범죄 현장 증거 찾는 과학수사 모의 현장 가보니\n",
      "https://n.news.naver.com/mnews/article/comment/584/0000031852 \n",
      "https://n.news.naver.com/mnews/article/584/0000031850 AI시대 비용 많이 드는 데이터센터, 우주에 구축\n",
      "https://n.news.naver.com/mnews/article/comment/584/0000031850 \n",
      "https://n.news.naver.com/mnews/article/005/0001769412 [이도경의 리플레e] 숏폼이 게임을 잠식하다: 이제는 규제까지 닮아가는 두 콘텐츠\n",
      "https://n.news.naver.com/mnews/article/comment/005/0001769412 \n",
      "https://n.news.naver.com/mnews/article/003/0013179489 [AI 에이전트 ①] 젠슨황이 예견한 미래…AI비서 넘어 AI 매니저 둘까\n",
      "https://n.news.naver.com/mnews/article/comment/003/0013179489 \n",
      "https://n.news.naver.com/mnews/article/001/0015325777 '천재 개발자' 제프 딘 \"추론 AI 모델, 작고 빠르게 만들어야\"\n",
      "https://n.news.naver.com/mnews/article/comment/001/0015325777 \n",
      "https://n.news.naver.com/mnews/article/015/0005118309 [단독] 카카오 핵심 비상장 자회사 실적 개선…흑자 전환·영업익 140% 증가\n",
      "https://n.news.naver.com/mnews/article/comment/015/0005118309 \n",
      "https://n.news.naver.com/mnews/article/014/0005334854 \"이걸로 장사를 한다고?\"...번개장터, 당근까지 난리난 상황\n",
      "https://n.news.naver.com/mnews/article/comment/014/0005334854 \n",
      "https://n.news.naver.com/mnews/article/025/0003433662 \"AI에 저항? 소용없다, 배워라\"…'인터넷 아버지' 서프의 조언\n",
      "https://n.news.naver.com/mnews/article/comment/025/0003433662 \n",
      "https://n.news.naver.com/mnews/article/421/0008188560 대통령 탄핵 이후 급변한 의료정책 기류…정부-의협 대화 본격화\n",
      "https://n.news.naver.com/mnews/article/comment/421/0008188560 \n",
      "https://n.news.naver.com/mnews/article/421/0008188564 세금 1조원 들어간 한국 지도 데이터…구글에 넘어갈 판\n",
      "https://n.news.naver.com/mnews/article/comment/421/0008188564 \n",
      "https://n.news.naver.com/mnews/article/006/0000129459 AI기업과 언론, '악마와의 계약' 되지 않으려면\n",
      "https://n.news.naver.com/mnews/article/comment/006/0000129459 \n",
      "https://n.news.naver.com/mnews/article/417/0001070445 '이대로 상폐는 안 돼'… 절체절명 위믹스, 돌파구는\n",
      "https://n.news.naver.com/mnews/article/comment/417/0001070445 \n",
      "https://n.news.naver.com/mnews/article/366/0001068742 [인터뷰] 사무엘 장 HP 컨슈머 PC 사업 총괄 사장 “AI PC 시대엔 키보드 대신 음성·제스처로 소통”\n",
      "https://n.news.naver.com/mnews/article/comment/366/0001068742 \n",
      "https://n.news.naver.com/mnews/article/366/0001068737 [우주산업 리포트] 뱅가드 1호 지구 귀환하나…67년 된 세계 최장수 위성\n",
      "https://n.news.naver.com/mnews/article/comment/366/0001068737 \n",
      "https://n.news.naver.com/mnews/article/079/0004012962 \"50년 된 게임기 보러올래?\" 구로 터줏대감, 넷마블 [왓츠인마이오피스]\n",
      "https://n.news.naver.com/mnews/article/comment/079/0004012962 \n",
      "https://n.news.naver.com/mnews/article/079/0004012959 천문학계 골드러시 시작?…유클리드 첫 과학 데이터 꾸러미 공개[코스모스토리]\n",
      "https://n.news.naver.com/mnews/article/comment/079/0004012959 \n",
      "https://n.news.naver.com/mnews/article/023/0003899101 中에 관세 145% 때리자… 美온라인 업체 “가격 25% 올립니다”\n",
      "https://n.news.naver.com/mnews/article/comment/023/0003899101 \n",
      "https://n.news.naver.com/mnews/article/023/0003899081 카카오엔터 기업 공개 어렵자 결국 매각으로 선회\n",
      "https://n.news.naver.com/mnews/article/comment/023/0003899081 \n",
      "https://n.news.naver.com/mnews/article/006/0000129457 AI검색 시대, 언론사 웹사이트 접속 급감한다?\n",
      "https://n.news.naver.com/mnews/article/comment/006/0000129457 \n",
      "https://n.news.naver.com/mnews/article/016/0002456189 “이러다 큰일 난다” SNS 유행이라고 1억명 ‘우르르’…끔찍한 나비효과 [지구, 뭐래?]\n",
      "https://n.news.naver.com/mnews/article/comment/016/0002456189 \n",
      "https://n.news.naver.com/mnews/article/031/0000923964 \"돈 주고 만든 내 지브리 프사 어때?\"…챗GPT 유료사용자 5배 급증\n",
      "https://n.news.naver.com/mnews/article/comment/031/0000923964 \n"
     ]
    }
   ],
   "source": [
    "# IT/과학 뉴스\n",
    "req_param = {\"sid\": 105}\n",
    "#\n",
    "url = \"https://news.naver.com/section/{sid}\".format(**req_param)\n",
    "print(url)\n",
    "\n",
    "# url2 = 'https://news.naver.com/section/105'\n",
    "\n",
    "# 요청 헤더 설정 : 브라우저 정보 (사람처럼 보이게 하려고 설정하는 것임임)\n",
    "req_header = {\n",
    "    \"user-agent\": \"Mozilla/5.0 (Windows NT 10.0; Win64; x64) AppleWebKit/537.36 (KHTML, like Gecko) Chrome/104.0.0.0 Safari/537.36\"\n",
    "}\n",
    "\n",
    "# requests 의 get() 함수 호출하기\n",
    "res = requests.get(url, headers=req_header)\n",
    "print(res)\n",
    "print(type(res))\n",
    "print(res.status_code, res.ok)\n",
    "\n",
    "# 응답(response)이 OK 이면\n",
    "if res.ok:\n",
    "    # 응답 (response)에서 text 추출\n",
    "    html = res.text\n",
    "    # print(html)\n",
    "    # BeautifulSoup 객체 생성\n",
    "    soup = BeautifulSoup(html, \"html.parser\")\n",
    "    # print(soup)\n",
    "    # CSS 선택자\n",
    "    # div class='sa_text'><a></a></div>\n",
    "    print(len(soup.select(\"div.sa_text a[href*='mnews/article']\")))\n",
    "    # print(soup.select(\"div.sa_text a[href*='mnews/article']\"))\n",
    "    a_tag_list = soup.select(\"div.sa_text a[href*='mnews/article']\")\n",
    "    print(\n",
    "        type(a_tag_list)\n",
    "    )  # [<a href=\"http://\">뉴스제목</a>] ResultSet객체 , <a></a> : Tag 객체\n",
    "    for a_tag in a_tag_list:\n",
    "        # print(type(a_tag))\n",
    "        title = a_tag.text.strip()\n",
    "        # href 속성의 값을 가져오기\n",
    "        link = a_tag[\"href\"]\n",
    "        print(link, title)\n",
    "\n",
    "    # <a> 태그 리스트 순회하기\n",
    "else:\n",
    "\n",
    "    # 응답(response)이 Error 이면 status code 출력\n",
    "    print(f\"에러코드 = {res.status_code}\")"
   ]
  },
  {
   "cell_type": "markdown",
   "id": "45640860-a449-4285-90d7-5f300292b461",
   "metadata": {},
   "source": [
    "### 1.1 뉴스제목 추출하는 함수 선언하기"
   ]
  },
  {
   "cell_type": "code",
   "execution_count": 20,
   "id": "9f2e4ef8",
   "metadata": {},
   "outputs": [
    {
     "name": "stdout",
     "output_type": "stream",
     "text": [
      "=====> https://news.naver.com/section/101 경제 뉴스 <=====\n",
      "<Response [200]>\n",
      "<class 'requests.models.Response'>\n",
      "200 True\n",
      "92\n",
      "<class 'bs4.element.ResultSet'>\n",
      "https://n.news.naver.com/mnews/article/119/0002943991 부동산 시장, 규제 강화 기조 속 기준금리 인하에 쏠리는 눈\n",
      "https://n.news.naver.com/mnews/article/comment/119/0002943991 \n",
      "https://n.news.naver.com/mnews/article/005/0001769275 가트너 “엔비디아, 인텔·삼성전자 제치고 반도체 매출 1위”\n",
      "https://n.news.naver.com/mnews/article/comment/005/0001769275 \n",
      "https://n.news.naver.com/mnews/article/011/0004473010 노태문 \"원 삼성으로 협력…더 큰 가치 창출\"\n",
      "https://n.news.naver.com/mnews/article/comment/011/0004473010 \n",
      "https://n.news.naver.com/mnews/article/366/0001068626 한화, 구세군 서울후생원 자립준비청년 공간 지원\n",
      "https://n.news.naver.com/mnews/article/comment/366/0001068626 \n",
      "https://n.news.naver.com/mnews/article/001/0015325130 정부 \"용산·강남3구 상승폭 둔화…주택불안 우려땐 추가 조치\"\n",
      "https://n.news.naver.com/mnews/article/comment/001/0015325130 \n",
      "https://n.news.naver.com/mnews/article/660/0000083166 서울, 전 세계 부유한 도시 24위..\"하락 폭 가장 커\"\n",
      "https://n.news.naver.com/mnews/article/comment/660/0000083166 \n",
      "https://n.news.naver.com/mnews/article/243/0000076172 비트코인, 관세전쟁에 8만 달러 붕괴…가상자산 전반 급락세\n",
      "https://n.news.naver.com/mnews/article/comment/243/0000076172 \n",
      "https://n.news.naver.com/mnews/article/018/0005985184 4월 들어서도 수출 증가세 지속…美관세 불안도 고조(종합)\n",
      "https://n.news.naver.com/mnews/article/comment/018/0005985184 \n",
      "https://n.news.naver.com/mnews/article/003/0013177787 프라다, 베르사체 품었다…2조에 인수\n",
      "https://n.news.naver.com/mnews/article/comment/003/0013177787 \n",
      "https://n.news.naver.com/mnews/article/011/0004473283 설화수부터 지그재그까지…이번 주말 팝업스토어 가보세요\n",
      "https://n.news.naver.com/mnews/article/comment/011/0004473283 \n",
      "https://n.news.naver.com/mnews/article/648/0000035267 실적 선방에 관세유예 덤까지…삼성전자, 반전 기회 잡을까\n",
      "https://n.news.naver.com/mnews/article/comment/648/0000035267 \n",
      "https://n.news.naver.com/mnews/article/015/0005118344 워런 버핏도 담았다…폭락장에 '뭉칫돈' 몰리는 곳\n",
      "https://n.news.naver.com/mnews/article/comment/015/0005118344 \n",
      "https://n.news.naver.com/mnews/article/006/0000129461 \"본부장이 北 김정은이라니\" 한화에어로 사장 비판기사 왜 사라졌나\n",
      "https://n.news.naver.com/mnews/article/comment/006/0000129461 \n",
      "https://n.news.naver.com/mnews/article/016/0002456248 현대차, 아이오닉 6 페리로 자존심 회복할까…“2분기 사전예약 돌입” [여車저車]\n",
      "https://n.news.naver.com/mnews/article/comment/016/0002456248 \n",
      "https://n.news.naver.com/mnews/article/654/0000115807 관세 면제 가능성에 애플 주가 3% 상승\n",
      "https://n.news.naver.com/mnews/article/comment/654/0000115807 \n",
      "https://n.news.naver.com/mnews/article/029/0002947582 간병인 썼는데 `퇴짜`…간호·간병 통합은 달라요 [임성원의 속편한 보험]\n",
      "https://n.news.naver.com/mnews/article/comment/029/0002947582 \n",
      "https://n.news.naver.com/mnews/article/009/0005475153 “남친 있는 사람 뽑았더니 깽판”…‘술자리 면접’ 백종원 더본코리아, 고용부 조사\n",
      "https://n.news.naver.com/mnews/article/comment/009/0005475153 \n",
      "https://n.news.naver.com/mnews/article/009/0005475152 ‘이것’ 빼고 과자 만들었더니 대박...불황 속에도 1년에 500억 번다 [남돈남산]\n",
      "https://n.news.naver.com/mnews/article/comment/009/0005475152 \n",
      "https://n.news.naver.com/mnews/article/088/0000941556 한국증시, 美관세발 글로벌 폭락장에도 선방했다\n",
      "https://n.news.naver.com/mnews/article/comment/088/0000941556 \n",
      "https://n.news.naver.com/mnews/article/123/0002356857 “비트코인 진짜 랠리 시작” 전문가들이 주목한 지표가\n",
      "https://n.news.naver.com/mnews/article/comment/123/0002356857 \n",
      "https://n.news.naver.com/mnews/article/009/0005475145 비쌀수록 잘 팔린다...노원 월계동 48억 펜트하우스 3가구도 계약 체결\n",
      "https://n.news.naver.com/mnews/article/comment/009/0005475145 \n",
      "https://n.news.naver.com/mnews/article/011/0004473288 입지 선호도 1위 하남 교산 신도시의 현실은? [헬로홈즈]\n",
      "https://n.news.naver.com/mnews/article/comment/011/0004473288 \n",
      "https://n.news.naver.com/mnews/article/022/0004027052 “집을 고른 게 아니라, 아이의 하루를 고른 겁니다” [육아동네 리포트②]\n",
      "https://n.news.naver.com/mnews/article/comment/022/0004027052 \n",
      "https://n.news.naver.com/mnews/article/020/0003627803 100년 전 관세전쟁의 교훈…어리석음은 이렇게 재앙이 된다[딥다이브]\n",
      "https://n.news.naver.com/mnews/article/comment/020/0003627803 \n",
      "https://n.news.naver.com/mnews/article/053/0000049229 한화 3세 승계... 상법 개정안 논의 불붙나\n",
      "https://n.news.naver.com/mnews/article/comment/053/0000049229 \n",
      "https://n.news.naver.com/mnews/article/003/0013179556 달러·금은 안전한가요[관세전쟁 피난처①]\n",
      "https://n.news.naver.com/mnews/article/comment/003/0013179556 \n",
      "https://n.news.naver.com/mnews/article/003/0013179560 금융시장 요동치고 기업 심리 '꽁꽁'…성장동력 상실 우려↑[韓경제 외줄타기①]\n",
      "https://n.news.naver.com/mnews/article/comment/003/0013179560 \n",
      "https://n.news.naver.com/mnews/article/015/0005118331 \"기분 좋아져요\"…MZ 직장인은 다 있다는 '효자 아이템'\n",
      "https://n.news.naver.com/mnews/article/comment/015/0005118331 \n",
      "https://n.news.naver.com/mnews/article/215/0001205507 변덕 심한 트럼프…옵션 ETF로 이겨낸다 [투자의 재발견]\n",
      "https://n.news.naver.com/mnews/article/comment/215/0001205507 \n",
      "https://n.news.naver.com/mnews/article/009/0005475128 “내 집 어떻게 하죠, 거리 나앉는 거 아닌가요”...분양 아파트 건설사 망할 때 대책은 [부동산 이기자]\n",
      "https://n.news.naver.com/mnews/article/comment/009/0005475128 \n",
      "https://n.news.naver.com/mnews/article/037/0000036167 ‘벼랑 끝’ 관세전쟁 트럼프, 미국 국채 가격 폭락에 굴복\n",
      "https://n.news.naver.com/mnews/article/comment/037/0000036167 \n",
      "https://n.news.naver.com/mnews/article/024/0000096318 “여보, 이러다 20억 찍겠어”...난리 난 이 동네 [김경민의 부동산NOW]\n",
      "https://n.news.naver.com/mnews/article/comment/024/0000096318 \n",
      "https://n.news.naver.com/mnews/article/032/0003362851 “사과농사 끝났다”…먹거리에 날아들 ‘산불 청구서’\n",
      "https://n.news.naver.com/mnews/article/comment/032/0003362851 \n",
      "https://n.news.naver.com/mnews/article/243/0000076227 “아메리카노 200원 올려도 싸잖아”...저가커피 올해도 웃을까\n",
      "https://n.news.naver.com/mnews/article/comment/243/0000076227 \n",
      "https://n.news.naver.com/mnews/article/648/0000035264 [청기홍기]엇갈린 건설사 목표주가…HDC↑·KCC↓\n",
      "https://n.news.naver.com/mnews/article/comment/648/0000035264 \n",
      "https://n.news.naver.com/mnews/article/029/0002947577 `트럼프 관세쇼`에 구멍뚫린 내지갑…투자전략 어떻게?[주형연의 에구MONEY]\n",
      "https://n.news.naver.com/mnews/article/comment/029/0002947577 \n",
      "https://n.news.naver.com/mnews/article/003/0013179519 삼성전자 1분기 영업익, 시장 예상보다↑ 外[금주의 산업계 이슈]\n",
      "https://n.news.naver.com/mnews/article/comment/003/0013179519 \n",
      "https://n.news.naver.com/mnews/article/024/0000096317 [단독]방사청, ‘수의계약 필요성’이례적 민간위원 설득까지...KDDX 결론 급물살\n",
      "https://n.news.naver.com/mnews/article/comment/024/0000096317 \n",
      "https://n.news.naver.com/mnews/article/015/0005118323 서울까지 22분이면 가는데…\"집값 3억 빠졌대\" 난리 난 동네\n",
      "https://n.news.naver.com/mnews/article/comment/015/0005118323 \n",
      "https://n.news.naver.com/mnews/article/015/0005118322 역대급 급락장에…서학개미들은 美주식 쇼핑 삼매경\n",
      "https://n.news.naver.com/mnews/article/comment/015/0005118322 \n",
      "https://n.news.naver.com/mnews/article/421/0008188620 [단독] 구지은 \"매각하라고 협박하더니, 허위기사까지…돈이면 다 아냐\"\n",
      "https://n.news.naver.com/mnews/article/comment/421/0008188620 \n",
      "https://n.news.naver.com/mnews/article/052/0002179152 날아온 '트럼프 청구서'...'방위비·관세 패키지 협상' 전략은?\n",
      "https://n.news.naver.com/mnews/article/comment/052/0002179152 \n",
      "https://n.news.naver.com/mnews/article/016/0002456222 ‘안전자산’ 달러 휘청, 트럼프는 다 계획이 있다? [세모금]\n",
      "https://n.news.naver.com/mnews/article/comment/016/0002456222 \n",
      "https://n.news.naver.com/mnews/article/665/0000004824 트럼프 관세에 냉탕 온탕… 삼전‧SK하닉 또 '출렁'\n",
      "https://n.news.naver.com/mnews/article/comment/665/0000004824 \n",
      "https://n.news.naver.com/mnews/article/421/0008188608 '60% 급등' 계룡건설은 어쩌다 李 테마주가 됐나[종목현미경]\n",
      "https://n.news.naver.com/mnews/article/comment/421/0008188608 \n",
      "https://n.news.naver.com/mnews/article/015/0005118318 \"25억 잠실 아파트, 31억 주고 샀다\"…들썩이는 이유 [이송렬의 우주인]\n",
      "https://n.news.naver.com/mnews/article/comment/015/0005118318 \n"
     ]
    }
   ],
   "source": [
    "import requests\n",
    "from bs4 import BeautifulSoup\n",
    "\n",
    "section_dict = {\n",
    "    100: \"정치\",\n",
    "    101: \"경제\",\n",
    "    102: \"사회\",\n",
    "    103: \"생활/문화\",\n",
    "    104: \"세계\",\n",
    "    105: \"IT/과학\",\n",
    "}\n",
    "\n",
    "\n",
    "def print_news(sid):  # print_new(103)\n",
    "    section = section_dict[sid]\n",
    "    req_param = {\"sid\": sid}\n",
    "    #\n",
    "    url = f\"https://news.naver.com/section/{sid}\"\n",
    "    print(f\"=====> {url} {section} 뉴스 <=====\")\n",
    "\n",
    "    # 요청 헤더 설정 : 브라우저 정보 (사람처럼 보이게 하려고 설정하는 것임임)\n",
    "    req_header = {\n",
    "        \"user-agent\": \"Mozilla/5.0 (Windows NT 10.0; Win64; x64) AppleWebKit/537.36 (KHTML, like Gecko) Chrome/104.0.0.0 Safari/537.36\"\n",
    "    }\n",
    "\n",
    "    # requests 의 get() 함수 호출하기\n",
    "    res = requests.get(url, headers=req_header)\n",
    "    print(res)\n",
    "    print(type(res))\n",
    "    print(res.status_code, res.ok)\n",
    "    \n",
    "       # 응답(response)이 OK 이면\n",
    "    if res.ok:\n",
    "        # 응답 (response)에서 text 추출 - source 보기\n",
    "        html = res.text\n",
    "        # BeautifulSoup 객체 생성\n",
    "        soup = BeautifulSoup(html, \"html.parser\")\n",
    "        \n",
    "        print(len(soup.select(\"div.sa_text a[href*='mnews/article']\")))\n",
    "        a_tag_list = soup.select(\"div.sa_text a[href*='mnews/article']\")    \n",
    "        print(type(a_tag_list))  # [<a href=\"http://\">뉴스제목</a>] ResultSet객체 , <a></a> : Tag 객체\n",
    "        \n",
    "        for a_tag in a_tag_list:\n",
    "            # print(type(a_tag))\n",
    "            title = a_tag.text.strip()\n",
    "            # href 속성의 값을 가져오기\n",
    "            link = a_tag[\"href\"]\n",
    "            print(link, title)\n",
    "    else:\n",
    "        # 응답(response)이 Error 이면 status code 출력\n",
    "        print(f\"에러 코드 = {res.status_code}\")\n",
    "\n",
    "# 함수호출\n",
    "print_news(101)"
   ]
  },
  {
   "cell_type": "markdown",
   "id": "323196dc",
   "metadata": {},
   "source": [
    "### 2. Image 다운로드\n",
    "* referer 요청 헤더를 반드시 설정해야 한다."
   ]
  },
  {
   "cell_type": "code",
   "execution_count": 10,
   "id": "c72d6cb1",
   "metadata": {},
   "outputs": [
    {
     "name": "stdout",
     "output_type": "stream",
     "text": [
      "writing to 20220804112251_d97bd1e1b38f0cd022e4e3639d2926b3_IMAG01_1.jpg(299,319) bytes \n",
      "writing to 20220804112251_d97bd1e1b38f0cd022e4e3639d2926b3_IMAG01_2.jpg(163,333) bytes \n",
      "writing to 20220804112251_d97bd1e1b38f0cd022e4e3639d2926b3_IMAG01_3.jpg(182,530) bytes \n"
     ]
    }
   ],
   "source": [
    "import requests\n",
    "import os\n",
    "\n",
    "req_header = {\n",
    "    'referer': 'https://comic.naver.com/webtoon/detail?titleId=798173&no=5&amp;weekday=thu'\n",
    "}\n",
    "\n",
    "img_urls = [\n",
    "    'https://image-comic.pstatic.net/webtoon/798173/5/20220804112251_d97bd1e1b38f0cd022e4e3639d2926b3_IMAG01_1.jpg',\n",
    "    'https://image-comic.pstatic.net/webtoon/798173/5/20220804112251_d97bd1e1b38f0cd022e4e3639d2926b3_IMAG01_2.jpg',\n",
    "    'https://image-comic.pstatic.net/webtoon/798173/5/20220804112251_d97bd1e1b38f0cd022e4e3639d2926b3_IMAG01_3.jpg'\n",
    "]\n",
    "\n",
    "for img_url in img_urls:\n",
    "    # requests 의 get(url, headers) 함수 호출하기 \n",
    "    res = requests.get(img_url, headers=req_header) \n",
    "    if res.ok:\n",
    "        # binary 응답 데이터 가져오기 content 프로퍼티를 사용\n",
    "        img_data =res.content\n",
    "        # url에서 파일명만 추출하기\n",
    "        file_name = os.path.basename(img_url)\n",
    "        \n",
    "        # binday data를 file에 write하기\n",
    "        with open(file_name,'wb') as file:\n",
    "            print(f'writing to {file_name}({len(img_data):,}) bytes ')\n",
    "            file.write(img_data)"
   ]
  },
  {
   "cell_type": "markdown",
   "id": "e8b00a04",
   "metadata": {},
   "source": [
    "* 현재 요청된 페이지의 image 모두 다운로드 해보기"
   ]
  },
  {
   "cell_type": "code",
   "execution_count": null,
   "id": "b30f7bf5",
   "metadata": {},
   "outputs": [
    {
     "name": "stdout",
     "output_type": "stream",
     "text": [
      "19\n",
      "72\n",
      "72\n",
      "19 ['https://image-comic.pstatic.net/webtoon/833255/35/20250107185236_7c4b279b6b7816fb2920b82077a98786_IMAG01_1.jpg', 'https://image-comic.pstatic.net/webtoon/833255/35/20250107185236_7c4b279b6b7816fb2920b82077a98786_IMAG01_2.jpg']\n"
     ]
    }
   ],
   "source": [
    "import requests\n",
    "from bs4 import BeautifulSoup\n",
    "import os\n",
    "\n",
    "url = 'https://comic.naver.com/webtoon/detail?titleId=833255&no=35&week=tue'\n",
    "req_header ={\n",
    "    'referer': url\n",
    "}\n",
    "res = requests.get(url)\n",
    "if res.ok:\n",
    "    # jpg 파일의 절대경로 url를 찾기\n",
    "    soup = BeautifulSoup(res.text, 'html.parser')\n",
    "    print(len(soup.select(\"img[src*='IMAG01']\")))\n",
    "    print(len(soup.select(\"img[src$='jpg']\")))\n",
    "    print(len(soup.select(\"img[src^='https://image-comic']\")))\n",
    "    \n",
    "    img_tags = soup.select(\"img[src*='IMAG01']\")\n",
    "    #img src 를 저장할 list 선언\n",
    "    img_url_list = list() #[]\n",
    "    for img_tag in img_tags:\n",
    "        #print(type(img_tag),img_tag.name, img_tag)\n",
    "        img_src = img_tag['src']\n",
    "        img_url_list.append(img_src)\n",
    "    print(len(img_url_list), img_url_list[:2])\n",
    "    \n",
    "    #img 디렉토리가 없으면 생성하기   \n",
    "    imgdir_name = 'img'\n",
    "    if not os.path.isdir(imgdir_name):\n",
    "        os.mkdir(imgdir_name)\n",
    "    \n",
    "    #os.path.join(dir,file) 함수 사용하여 디렉토리명과 파일명 합치기\n",
    "import requests\n",
    "from bs4 import BeautifulSoup\n",
    "import os\n",
    "\n",
    "url = 'https://comic.naver.com/webtoon/detail?titleId=833255&no=35&week=tue'\n",
    "req_header ={\n",
    "    'referer': url\n",
    "}\n",
    "res = requests.get(url)\n",
    "if res.ok:\n",
    "    # jpg 파일의 절대경로 url를 찾기\n",
    "    soup = BeautifulSoup(res.text, 'html.parser')\n",
    "    print(len(soup.select(\"img[src*='IMAG01']\")))\n",
    "    print(len(soup.select(\"img[src$='jpg']\")))\n",
    "    print(len(soup.select(\"img[src^='https://image-comic']\")))\n",
    "    \n",
    "    img_tags = soup.select(\"img[src*='IMAG01']\")\n",
    "    #img src 를 저장할 list 선언\n",
    "    img_url_list = list() #[]\n",
    "    for img_tag in img_tags:\n",
    "        #print(type(img_tag),img_tag.name, img_tag)\n",
    "        img_src = img_tag['src']\n",
    "        img_url_list.append(img_src)\n",
    "    print(len(img_url_list), img_url_list[:2])\n",
    "    \n",
    "    #img 디렉토리가 없으면 생성하기   \n",
    "    imgdir_name = 'img'\n",
    "    if not os.path.isdir(imgdir_name):\n",
    "        os.mkdir(imgdir_name)\n",
    "    \n",
    "    #os.path.join(dir,file) 함수 사용하여 디렉토리명과 파일명 합치기\n",
    "    for img_url in img_urls:\n",
    "    # requests 의 get(url, headers) 함수 호출하기 \n",
    "    res = requests.get(img_url, headers=req_header) \n",
    "    if res.ok:\n",
    "        # binary 응답 데이터 가져오기 content 프로퍼티를 사용\n",
    "        img_data =res.content\n",
    "        # url에서 파일명만 추출하기\n",
    "        file_name = os.path.basename(img_url)\n",
    "        \n",
    "        # binday data를 file에 write하기\n",
    "        with open(file_name,'wb') as file:\n",
    "            print(f'writing to {file_name}({len(img_data):,}) bytes ')\n",
    "            file.write(img_data)\n",
    "    \n",
    "else:\n",
    "    print(f'Error code = {res.status_code}')\n"
   ]
  },
  {
   "cell_type": "markdown",
   "id": "2ac9f5f9",
   "metadata": {},
   "source": [
    "### 3. 파일 업로드 하기\n",
    "* http://httpbin.org/post 업로드 요청을 할 수 있는 url"
   ]
  },
  {
   "cell_type": "code",
   "execution_count": null,
   "id": "04da4790",
   "metadata": {},
   "outputs": [
    {
     "name": "stdout",
     "output_type": "stream",
     "text": [
      "200\n"
     ]
    }
   ],
   "source": [
    "import requests\n",
    "\n",
    "upload_files = {\n",
    "    \n",
    "}\n",
    "#print(upload_files)\n",
    "\n",
    "url = 'http://httpbin.org/post'\n",
    "# file 업로드 하려면 requests의 post 함수에 files 속성을 사용합니다.\n",
    "\n"
   ]
  },
  {
   "cell_type": "markdown",
   "id": "7ad65f12",
   "metadata": {},
   "source": [
    "### 4. 캡챠(이미지) API 호출하기\n",
    "* urllib 사용\n",
    "* 1. 캡차 키 발급 요청\n",
    "  2. 캡차 이미지 요청\n",
    "  3. 사용자 입력값 검증 요청"
   ]
  },
  {
   "cell_type": "code",
   "execution_count": 2,
   "id": "bc4ae360-e772-4873-8642-d3494edd34e1",
   "metadata": {},
   "outputs": [],
   "source": [
    "# 캡차 키 발급 요청\n"
   ]
  },
  {
   "cell_type": "code",
   "execution_count": 1,
   "id": "7b95b6a0-c218-4792-82a6-da4d80872071",
   "metadata": {},
   "outputs": [],
   "source": [
    "# 캡차 이미지 요청\n"
   ]
  },
  {
   "cell_type": "code",
   "execution_count": 3,
   "id": "a79076af-2cd0-4de2-8301-316b9130c55e",
   "metadata": {},
   "outputs": [],
   "source": [
    "#  사용자 입력값 검증 요청\n",
    "\n"
   ]
  },
  {
   "cell_type": "markdown",
   "id": "b7d984a6",
   "metadata": {},
   "source": [
    "* requests를 사용하는 코드로 변경하기\n",
    "* [requests docs](https://requests.readthedocs.io/en/latest/user/quickstart/)"
   ]
  },
  {
   "cell_type": "code",
   "execution_count": null,
   "id": "727b427b",
   "metadata": {
    "scrolled": true
   },
   "outputs": [
    {
     "name": "stdout",
     "output_type": "stream",
     "text": [
      "Error Code: 403\n"
     ]
    }
   ],
   "source": [
    "# 사용자 입력값 검증 요청\n",
    "\n"
   ]
  },
  {
   "cell_type": "markdown",
   "id": "d5e1179a",
   "metadata": {},
   "source": [
    "### 5. 블로그 검색하기"
   ]
  },
  {
   "cell_type": "code",
   "execution_count": null,
   "id": "877d0c7f",
   "metadata": {},
   "outputs": [],
   "source": [
    "import requests\n",
    "import pprint\n",
    "\n",
    "headers = {\n",
    "    'X-Naver-Client-Id': '',\n",
    "    'X-Naver-Client-Secret': '',\n",
    "}\n",
    "\n",
    "payload = {\n",
    "    'query': '파이썬',\n",
    "    'display': 100,\n",
    "    'sort': 'sim'\n",
    "}\n",
    "\n",
    "url = 'https://openapi.naver.com/v1/search/blog.json'\n",
    "\n",
    "\n",
    "# requests get(url, params, headers) 요청 \n",
    "\n",
    "# json() 함수로 응답 결과 가져오오기\n",
    "# 'title' , 'bloggername' , 'description' , 'bloggerlink' , 'link'\n",
    "\n",
    "# 'data/nhnblog.txt' 파일 생성하기\n"
   ]
  }
 ],
 "metadata": {
  "kernelspec": {
   "display_name": "base",
   "language": "python",
   "name": "python3"
  },
  "language_info": {
   "codemirror_mode": {
    "name": "ipython",
    "version": 3
   },
   "file_extension": ".py",
   "mimetype": "text/x-python",
   "name": "python",
   "nbconvert_exporter": "python",
   "pygments_lexer": "ipython3",
   "version": "3.12.7"
  }
 },
 "nbformat": 4,
 "nbformat_minor": 5
}
