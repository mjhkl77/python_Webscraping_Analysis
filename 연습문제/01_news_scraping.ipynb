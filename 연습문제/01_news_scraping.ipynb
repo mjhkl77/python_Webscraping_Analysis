{
 "cells": [
  {
   "cell_type": "markdown",
   "id": "eb0bfa44",
   "metadata": {},
   "source": [
    "## 1-1. Daum 뉴스제목 가져오기\n",
    "* user-agent 요청헤더를 반드시 설정해야 한다."
   ]
  },
  {
   "cell_type": "code",
   "execution_count": null,
   "id": "bf80a429",
   "metadata": {},
   "outputs": [],
   "source": [
    "import requests\n",
    "from bs4 import BeautifulSoup\n",
    "\n",
    "# 다음 경제 뉴스 URL\n",
    "url = 'https://news.daum.net/economy'\n",
    "\n",
    "print(url)\n",
    "\n",
    "# 요청 헤더\n",
    "req_header = {\n",
    "    'user-agent': 'Mozilla/5.0 (Windows NT 10.0; Win64; x64) AppleWebKit/537.36 (KHTML, like Gecko) Chrome/104.0.0.0 Safari/537.36'\n",
    "}\n",
    "\n",
    "res = requests.get(url, headers=req_header)\n",
    "print(type(res))\n",
    "print(res.status_code)\n",
    "\n",
    "# 정상 응답 여부 확인\n",
    "if res.ok:\n",
    "    res.encoding = 'utf-8' \n",
    "    html = res.text\n",
    "    soup = BeautifulSoup(html, 'html.parser')\n",
    "    \n",
    "    # 기사 제목과 링크 추출\n",
    "    li_tag_list = soup.select('ul.list_newsheadline2 li')\n",
    "\n",
    "    print(type(li_tag_list), len(li_tag_list))\n",
    "\n",
    "    for li_tag in li_tag_list:        \n",
    "        a_tag = li_tag.find('a')\n",
    "        print(a_tag['href'])\n",
    "        \n",
    "        strong_tag = li_tag.select('div.cont_thumb strong.tit_txt')[0]\n",
    "        #li_tag.select_one('div.cont_thumb strong.tit_txt')\n",
    "        title = strong_tag.text.strip()\n",
    "        print(title)\n",
    "\n",
    "\n",
    "else:\n",
    "    print(f'에러코드 = {res.status_code}')\n",
    "\n"
   ]
  },
  {
   "cell_type": "code",
   "execution_count": null,
   "id": "9788d6ac",
   "metadata": {},
   "outputs": [],
   "source": [
    "section_dict = {'기후/환경':'climate','사회':'society','경제':'economy','정치':'politics',\\\n",
    "                '국재':'world','문화':'culture','생활':'life','IT/과학':'tech','인물':'people'}\n",
    "section_dict"
   ]
  },
  {
   "cell_type": "markdown",
   "id": "ccb91def-cde3-4aeb-b0e5-2e7233500333",
   "metadata": {},
   "source": [
    "## 1-2. Daum 뉴스제목 \n",
    "* 함수로 선언하여 처리하기"
   ]
  },
  {
   "cell_type": "code",
   "execution_count": 12,
   "id": "94c12fd6",
   "metadata": {},
   "outputs": [],
   "source": [
    "import requests\n",
    "from bs4 import BeautifulSoup\n",
    "\n",
    "# 섹션 이름과 URL 코드 매핑\n",
    "section_dict = {\n",
    "    '정치': 'politics',\n",
    "    '경제': 'economic',\n",
    "    '사회': 'society',\n",
    "    '국제': 'foreign',\n",
    "    '문화': 'culture',\n",
    "    'IT': 'digital'\n",
    "}\n",
    "\n",
    "def print_news(section_name):    \n",
    "    section = section_dict.get(section_name)\n",
    "    if section is None:\n",
    "        print('요청하신 Key가 없습니다.')\n",
    "        return\n",
    "\n",
    "    url = f'https://news.daum.net/{section}'\n",
    "    \n",
    "    print(f'======> {url} {section_name} 뉴스 <======')\n",
    "    \n",
    "    req_header = {\n",
    "        'user-agent': 'Mozilla/5.0 (Windows NT 10.0; Win64; x64) AppleWebKit/537.36 (KHTML, like Gecko) Chrome/104.0.0.0 Safari/537.36'\n",
    "    }\n",
    "\n",
    "    res = requests.get(url, headers=req_header)   \n",
    "\n",
    "    if res.ok:\n",
    "        res.encoding = 'utf-8' \n",
    "        soup = BeautifulSoup(res.text, 'html.parser')\n",
    "        \n",
    "        li_tag_list = soup.select('ul.list_newsheadline li')  # 구조 확인 필요\n",
    "\n",
    "        for li_tag in li_tag_list:        \n",
    "            a_tag = li_tag.find('a')\n",
    "            title = a_tag.text.strip()\n",
    "            link = a_tag['href']\n",
    "            print(f\"[{title}]({link})\")\n",
    "\n",
    "    else:\n",
    "        print(f'에러코드 = {res.status_code}')\n"
   ]
  },
  {
   "cell_type": "code",
   "execution_count": 14,
   "id": "4fa3ef3c",
   "metadata": {},
   "outputs": [
    {
     "name": "stdout",
     "output_type": "stream",
     "text": [
      "요청하신 Key가 없습니다.\n"
     ]
    }
   ],
   "source": [
    "print_news('경제3')"
   ]
  },
  {
   "cell_type": "code",
   "execution_count": null,
   "id": "fdb81c0c",
   "metadata": {},
   "outputs": [],
   "source": [
    "print_news('인물')"
   ]
  },
  {
   "cell_type": "markdown",
   "id": "45640860-a449-4285-90d7-5f300292b461",
   "metadata": {},
   "source": [
    "### 2-1 nate 최신뉴스 추출하기"
   ]
  },
  {
   "cell_type": "code",
   "execution_count": 5,
   "id": "b30f7bf5",
   "metadata": {},
   "outputs": [
    {
     "name": "stdout",
     "output_type": "stream",
     "text": [
      "https://news.nate.com/recent?mid=n0100\n",
      "<class 'requests.models.Response'>\n",
      "200\n",
      "20\n",
      "============>> 1\n",
      "https://news.nate.com/view/20250412n09389?mid=n0100\n",
      "https://thumbnews.nateimg.co.kr/news90///news.nateimg.co.kr/orgImg/na/2025/04/12/7231953_high.jpg\n"
     ]
    },
    {
     "data": {
      "text/html": [
       "<img src=\"https://thumbnews.nateimg.co.kr/news90///news.nateimg.co.kr/orgImg/na/2025/04/12/7231953_high.jpg\"/>"
      ],
      "text/plain": [
       "<IPython.core.display.Image object>"
      ]
     },
     "metadata": {},
     "output_type": "display_data"
    },
    {
     "name": "stdout",
     "output_type": "stream",
     "text": [
      "세월호를 기억하는 노란 물결\n",
      "============>> 2\n",
      "https://news.nate.com/view/20250412n09388?mid=n0100\n",
      "https://thumbnews.nateimg.co.kr/news90///news.nateimg.co.kr/orgImg/na/2025/04/12/7231952_high.jpg\n"
     ]
    },
    {
     "data": {
      "text/html": [
       "<img src=\"https://thumbnews.nateimg.co.kr/news90///news.nateimg.co.kr/orgImg/na/2025/04/12/7231952_high.jpg\"/>"
      ],
      "text/plain": [
       "<IPython.core.display.Image object>"
      ]
     },
     "metadata": {},
     "output_type": "display_data"
    },
    {
     "name": "stdout",
     "output_type": "stream",
     "text": [
      "잊지 않겠다는 약속\n",
      "============>> 3\n",
      "https://news.nate.com/view/20250412n09387?mid=n0100\n",
      "https://thumbnews.nateimg.co.kr/news90///news.nateimg.co.kr/orgImg/na/2025/04/12/7231951_high.jpg\n"
     ]
    },
    {
     "data": {
      "text/html": [
       "<img src=\"https://thumbnews.nateimg.co.kr/news90///news.nateimg.co.kr/orgImg/na/2025/04/12/7231951_high.jpg\"/>"
      ],
      "text/plain": [
       "<IPython.core.display.Image object>"
      ]
     },
     "metadata": {},
     "output_type": "display_data"
    },
    {
     "name": "stdout",
     "output_type": "stream",
     "text": [
      "세월호를 기억합니다\n",
      "============>> 4\n",
      "https://news.nate.com/view/20250412n09386?mid=n0100\n",
      "https://thumbnews.nateimg.co.kr/news90///news.nateimg.co.kr/orgImg/na/2025/04/12/7231949_high.jpg\n"
     ]
    },
    {
     "data": {
      "text/html": [
       "<img src=\"https://thumbnews.nateimg.co.kr/news90///news.nateimg.co.kr/orgImg/na/2025/04/12/7231949_high.jpg\"/>"
      ],
      "text/plain": [
       "<IPython.core.display.Image object>"
      ]
     },
     "metadata": {},
     "output_type": "display_data"
    },
    {
     "name": "stdout",
     "output_type": "stream",
     "text": [
      "빗속의 다짐\n",
      "============>> 5\n",
      "https://news.nate.com/view/20250412n09385?mid=n0100\n",
      "https://thumbnews.nateimg.co.kr/news90///news.nateimg.co.kr/orgImg/na/2025/04/12/7231948_high.jpg\n"
     ]
    },
    {
     "data": {
      "text/html": [
       "<img src=\"https://thumbnews.nateimg.co.kr/news90///news.nateimg.co.kr/orgImg/na/2025/04/12/7231948_high.jpg\"/>"
      ],
      "text/plain": [
       "<IPython.core.display.Image object>"
      ]
     },
     "metadata": {},
     "output_type": "display_data"
    },
    {
     "name": "stdout",
     "output_type": "stream",
     "text": [
      "기억하라 4.16\n",
      "============>> 6\n",
      "https://news.nate.com/view/20250412n09384?mid=n0100\n",
      "https://thumbnews.nateimg.co.kr/news90///news.nateimg.co.kr/orgImg/na/2025/04/12/7231946_high.jpg\n"
     ]
    },
    {
     "data": {
      "text/html": [
       "<img src=\"https://thumbnews.nateimg.co.kr/news90///news.nateimg.co.kr/orgImg/na/2025/04/12/7231946_high.jpg\"/>"
      ],
      "text/plain": [
       "<IPython.core.display.Image object>"
      ]
     },
     "metadata": {},
     "output_type": "display_data"
    },
    {
     "name": "stdout",
     "output_type": "stream",
     "text": [
      "세월호 참사 11주기 기억약속시민대회\n",
      "============>> 7\n",
      "https://news.nate.com/view/20250412n09383?mid=n0100\n",
      "https://thumbnews.nateimg.co.kr/news90///news.nateimg.co.kr/orgImg/na/2025/04/12/7231945_high.jpg\n"
     ]
    },
    {
     "data": {
      "text/html": [
       "<img src=\"https://thumbnews.nateimg.co.kr/news90///news.nateimg.co.kr/orgImg/na/2025/04/12/7231945_high.jpg\"/>"
      ],
      "text/plain": [
       "<IPython.core.display.Image object>"
      ]
     },
     "metadata": {},
     "output_type": "display_data"
    },
    {
     "name": "stdout",
     "output_type": "stream",
     "text": [
      "리멤버 0416\n",
      "============>> 8\n",
      "https://news.nate.com/view/20250412n09382?mid=n0100\n",
      "https://thumbnews.nateimg.co.kr/news90///news.nateimg.co.kr/orgImg/na/2025/04/12/7231944_high.jpg\n"
     ]
    },
    {
     "data": {
      "text/html": [
       "<img src=\"https://thumbnews.nateimg.co.kr/news90///news.nateimg.co.kr/orgImg/na/2025/04/12/7231944_high.jpg\"/>"
      ],
      "text/plain": [
       "<IPython.core.display.Image object>"
      ]
     },
     "metadata": {},
     "output_type": "display_data"
    },
    {
     "name": "stdout",
     "output_type": "stream",
     "text": [
      "별이 된 아이들을 기억하며\n",
      "============>> 9\n",
      "https://news.nate.com/view/20250412n09381?mid=n0100\n",
      "https://thumbnews.nateimg.co.kr/news90///news.nateimg.co.kr/orgImg/na/2025/04/12/7231943_high.jpg\n"
     ]
    },
    {
     "data": {
      "text/html": [
       "<img src=\"https://thumbnews.nateimg.co.kr/news90///news.nateimg.co.kr/orgImg/na/2025/04/12/7231943_high.jpg\"/>"
      ],
      "text/plain": [
       "<IPython.core.display.Image object>"
      ]
     },
     "metadata": {},
     "output_type": "display_data"
    },
    {
     "name": "stdout",
     "output_type": "stream",
     "text": [
      "어느덧 세월호 참사 11주기\n",
      "============>> 10\n",
      "https://news.nate.com/view/20250412n09380?mid=n0100\n",
      "https://thumbnews.nateimg.co.kr/news90///news.nateimg.co.kr/orgImg/na/2025/04/12/7231940_high.jpg\n"
     ]
    },
    {
     "data": {
      "text/html": [
       "<img src=\"https://thumbnews.nateimg.co.kr/news90///news.nateimg.co.kr/orgImg/na/2025/04/12/7231940_high.jpg\"/>"
      ],
      "text/plain": [
       "<IPython.core.display.Image object>"
      ]
     },
     "metadata": {},
     "output_type": "display_data"
    },
    {
     "name": "stdout",
     "output_type": "stream",
     "text": [
      "세월호를 잊지 않고 행동하겠습니다\n",
      "============>> 11\n",
      "https://news.nate.com/view/20250412n09379?mid=n0100\n",
      "https://thumbnews.nateimg.co.kr/news90///news.nateimg.co.kr/orgImg/kx/2025/04/12/2025041217163617061_1744445796_0027966123.jpg\n"
     ]
    },
    {
     "data": {
      "text/html": [
       "<img src=\"https://thumbnews.nateimg.co.kr/news90///news.nateimg.co.kr/orgImg/kx/2025/04/12/2025041217163617061_1744445796_0027966123.jpg\"/>"
      ],
      "text/plain": [
       "<IPython.core.display.Image object>"
      ]
     },
     "metadata": {},
     "output_type": "display_data"
    },
    {
     "name": "stdout",
     "output_type": "stream",
     "text": [
      "'HLE전 완패' 김정균 \"오늘 패배는 감독 책임…죄송스럽다\"\n",
      "============>> 12\n",
      "https://news.nate.com/view/20250412n09378?mid=n0100\n",
      "https://thumbnews.nateimg.co.kr/news90///news.nateimg.co.kr/orgImg/na/2025/04/12/7231941_high.jpg\n"
     ]
    },
    {
     "data": {
      "text/html": [
       "<img src=\"https://thumbnews.nateimg.co.kr/news90///news.nateimg.co.kr/orgImg/na/2025/04/12/7231941_high.jpg\"/>"
      ],
      "text/plain": [
       "<IPython.core.display.Image object>"
      ]
     },
     "metadata": {},
     "output_type": "display_data"
    },
    {
     "name": "stdout",
     "output_type": "stream",
     "text": [
      "안전제일 사회로\n",
      "============>> 13\n",
      "https://news.nate.com/view/20250412n09377?mid=n0100\n",
      "https://thumbnews.nateimg.co.kr/news90///news.nateimg.co.kr/orgImg/sg/2025/04/12/20250412506117.jpg\n"
     ]
    },
    {
     "data": {
      "text/html": [
       "<img src=\"https://thumbnews.nateimg.co.kr/news90///news.nateimg.co.kr/orgImg/sg/2025/04/12/20250412506117.jpg\"/>"
      ],
      "text/plain": [
       "<IPython.core.display.Image object>"
      ]
     },
     "metadata": {},
     "output_type": "display_data"
    },
    {
     "name": "stdout",
     "output_type": "stream",
     "text": [
      "尹 사저 복귀 이튿날에도 \"윤 어게인\"…광화문?사저 인근에 1만2000여명 모여\n",
      "============>> 14\n",
      "https://news.nate.com/view/20250412n09376?mid=n0100\n",
      "https://thumbnews.nateimg.co.kr/news90///news.nateimg.co.kr/orgImg/se/2025/04/12/2GRHT0N1PO_1.jpg\n"
     ]
    },
    {
     "data": {
      "text/html": [
       "<img src=\"https://thumbnews.nateimg.co.kr/news90///news.nateimg.co.kr/orgImg/se/2025/04/12/2GRHT0N1PO_1.jpg\"/>"
      ],
      "text/plain": [
       "<IPython.core.display.Image object>"
      ]
     },
     "metadata": {},
     "output_type": "display_data"
    },
    {
     "name": "stdout",
     "output_type": "stream",
     "text": [
      "日, 1인 가구 '자택서 사망' 7.6만명··· 수백명은 1년 뒤 발견돼\n",
      "============>> 15\n",
      "https://news.nate.com/view/20250412n09375?mid=n0100\n",
      "https://thumbnews.nateimg.co.kr/news90///news.nateimg.co.kr/orgImg/ns/2025/04/12/NISI20240508_0020331979_web.jpg\n"
     ]
    },
    {
     "data": {
      "text/html": [
       "<img src=\"https://thumbnews.nateimg.co.kr/news90///news.nateimg.co.kr/orgImg/ns/2025/04/12/NISI20240508_0020331979_web.jpg\"/>"
      ],
      "text/plain": [
       "<IPython.core.display.Image object>"
      ]
     },
     "metadata": {},
     "output_type": "display_data"
    },
    {
     "name": "stdout",
     "output_type": "stream",
     "text": [
      "졸다가 주차 차량 2대 '쾅쾅'…통근버스 기사 금고형 집유\n",
      "============>> 16\n",
      "https://news.nate.com/view/20250412n09374?mid=n0100\n",
      "https://thumbnews.nateimg.co.kr/news90///news.nateimg.co.kr/orgImg/wh/2025/04/12/1203374_1408828_151.jpg\n"
     ]
    },
    {
     "data": {
      "text/html": [
       "<img src=\"https://thumbnews.nateimg.co.kr/news90///news.nateimg.co.kr/orgImg/wh/2025/04/12/1203374_1408828_151.jpg\"/>"
      ],
      "text/plain": [
       "<IPython.core.display.Image object>"
      ]
     },
     "metadata": {},
     "output_type": "display_data"
    },
    {
     "name": "stdout",
     "output_type": "stream",
     "text": [
      "경북교육청, 272개 학교도서관 활성화…60억원투입\n",
      "============>> 17\n",
      "https://news.nate.com/view/20250412n09373?mid=n0100\n",
      "https://thumbnews.nateimg.co.kr/news90///news.nateimg.co.kr/orgImg/my/2025/04/12/2025041217174385876_l.jpg\n"
     ]
    },
    {
     "data": {
      "text/html": [
       "<img src=\"https://thumbnews.nateimg.co.kr/news90///news.nateimg.co.kr/orgImg/my/2025/04/12/2025041217174385876_l.jpg\"/>"
      ],
      "text/plain": [
       "<IPython.core.display.Image object>"
      ]
     },
     "metadata": {},
     "output_type": "display_data"
    },
    {
     "name": "stdout",
     "output_type": "stream",
     "text": [
      "[MD포토] 김현수 '오늘도 웃는다'\n",
      "============>> 18\n",
      "https://news.nate.com/view/20250412n09372?mid=n0100\n",
      "https://thumbnews.nateimg.co.kr/news90///news.nateimg.co.kr/orgImg/xs/2025/04/12/1744443100637729.jpg\n"
     ]
    },
    {
     "data": {
      "text/html": [
       "<img src=\"https://thumbnews.nateimg.co.kr/news90///news.nateimg.co.kr/orgImg/xs/2025/04/12/1744443100637729.jpg\"/>"
      ],
      "text/plain": [
       "<IPython.core.display.Image object>"
      ]
     },
     "metadata": {},
     "output_type": "display_data"
    },
    {
     "name": "stdout",
     "output_type": "stream",
     "text": [
      "'166km 총알타 쾅!' 김혜성 홈런포 터졌다!…'다저스 봤나?' 무력시위→팀은 연장 승부 끝 1-2 패배\n",
      "============>> 19\n",
      "https://news.nate.com/view/20250412n09371?mid=n0100\n",
      "https://thumbnews.nateimg.co.kr/news90///news.nateimg.co.kr/orgImg/na/2025/04/12/6696688_high.jpg\n"
     ]
    },
    {
     "data": {
      "text/html": [
       "<img src=\"https://thumbnews.nateimg.co.kr/news90///news.nateimg.co.kr/orgImg/na/2025/04/12/6696688_high.jpg\"/>"
      ],
      "text/plain": [
       "<IPython.core.display.Image object>"
      ]
     },
     "metadata": {},
     "output_type": "display_data"
    },
    {
     "name": "stdout",
     "output_type": "stream",
     "text": [
      "[부고] 김원석 씨(성균과의대 피부과 교수) 부친상\n",
      "============>> 20\n",
      "https://news.nate.com/view/20250412n09370?mid=n0100\n",
      "https://thumbnews.nateimg.co.kr/news90///news.nateimg.co.kr/orgImg/na/2025/04/12/7231939_high.jpg\n"
     ]
    },
    {
     "data": {
      "text/html": [
       "<img src=\"https://thumbnews.nateimg.co.kr/news90///news.nateimg.co.kr/orgImg/na/2025/04/12/7231939_high.jpg\"/>"
      ],
      "text/plain": [
       "<IPython.core.display.Image object>"
      ]
     },
     "metadata": {},
     "output_type": "display_data"
    },
    {
     "name": "stdout",
     "output_type": "stream",
     "text": [
      "세월호 참사 11주기 기억약속시민대회\n"
     ]
    }
   ],
   "source": [
    "import requests\n",
    "from bs4 import BeautifulSoup\n",
    "from urllib.parse import urljoin\n",
    "from IPython.display import Image, display\n",
    "\n",
    "url = 'https://news.nate.com/recent?mid=n0100'\n",
    "print(url)\n",
    "\n",
    "req_header = {\n",
    "    'user-agent': 'Mozilla/5.0 (Windows NT 10.0; Win64; x64) AppleWebKit/537.36 (KHTML, like Gecko) Chrome/104.0.0.0 Safari/537.36'\n",
    "}\n",
    "\n",
    "res = requests.get(url, headers=req_header)\n",
    "print(type(res))\n",
    "print(res.status_code)\n",
    "\n",
    "if res.ok:\n",
    "    res.encoding = 'euc-kr'\n",
    "    html = res.text\n",
    "    soup = BeautifulSoup(html, 'html.parser')\n",
    "    \n",
    "    tags = soup.select(\"div.postListType.noListTitle div.mlt01\")\n",
    "    print(len(tags))\n",
    "\n",
    "    for idx,div_tag in enumerate(tags,1): \n",
    "        print(f'============>> {idx}')       \n",
    "        a_tag = div_tag.find('a')\n",
    "        a_join_url = urljoin(url,a_tag['href'])\n",
    "        print(a_join_url)\n",
    "\n",
    "        img_tag = div_tag.select_one('span.ib img')\n",
    "        if img_tag:\n",
    "            photo_url = urljoin(url,img_tag['src'])\n",
    "            print(photo_url)\n",
    "            display(Image(url=photo_url))\n",
    "\n",
    "        h2_tag = div_tag.select_one('span.tb h2.tit')\n",
    "        title = h2_tag.text\n",
    "        print(title)\n",
    "\n",
    "else:\n",
    "    print(f'에러코드 = {res.status_code}')\n"
   ]
  },
  {
   "cell_type": "markdown",
   "id": "1d027530",
   "metadata": {},
   "source": [
    "## 2-2. Nate 뉴스제목과 Image 출력하기\n",
    "* 함수로 선언하여 처리하기"
   ]
  },
  {
   "cell_type": "code",
   "execution_count": 4,
   "id": "b20accc4",
   "metadata": {},
   "outputs": [
    {
     "name": "stdout",
     "output_type": "stream",
     "text": [
      "{'최신뉴스': 'n0100', '정치': 'n0200', '경제': 'n0300', '사회': 'n0400', '세계': 'n0500', 'IT/과학': 'n0600'}\n",
      "https://news.nate.com/recent?mid=n0600\n",
      "<class 'requests.models.Response'>\n",
      "200\n",
      "======> https://news.nate.com/recent?mid=n0600 IT/과학 뉴스 <======\n",
      "20\n",
      "============>> 1\n",
      "https://news.nate.com/view/20250412n08103?mid=n0600\n",
      "https://thumbnews.nateimg.co.kr/news90///news.nateimg.co.kr/orgImg/ae/2025/04/12/ae_1744440724294_143363_0.jpg\n"
     ]
    },
    {
     "data": {
      "text/html": [
       "<img src=\"https://thumbnews.nateimg.co.kr/news90///news.nateimg.co.kr/orgImg/ae/2025/04/12/ae_1744440724294_143363_0.jpg\"/>"
      ],
      "text/plain": [
       "<IPython.core.display.Image object>"
      ]
     },
     "metadata": {},
     "output_type": "display_data"
    },
    {
     "name": "stdout",
     "output_type": "stream",
     "text": [
      "\"혼자 살면 결혼한 사람보다 치매 위험 낮아\"…기존 연구 뒤집혔다\n",
      "============>> 2\n",
      "https://news.nate.com/view/20250412n07681?mid=n0600\n",
      "https://thumbnews.nateimg.co.kr/news90///news.nateimg.co.kr/orgImg/ae/2025/04/12/ae_1744437605465_182738_0.png\n"
     ]
    },
    {
     "data": {
      "text/html": [
       "<img src=\"https://thumbnews.nateimg.co.kr/news90///news.nateimg.co.kr/orgImg/ae/2025/04/12/ae_1744437605465_182738_0.png\"/>"
      ],
      "text/plain": [
       "<IPython.core.display.Image object>"
      ]
     },
     "metadata": {},
     "output_type": "display_data"
    },
    {
     "name": "stdout",
     "output_type": "stream",
     "text": [
      "\"이게 왜 볼이야\" 투수, 심판을 폭행하다 [AI오답노트]\n",
      "============>> 3\n",
      "https://news.nate.com/view/20250412n07038?mid=n0600\n",
      "https://thumbnews.nateimg.co.kr/news90///news.nateimg.co.kr/orgImg/xs/2025/04/12/1744420096833034.jpg\n"
     ]
    },
    {
     "data": {
      "text/html": [
       "<img src=\"https://thumbnews.nateimg.co.kr/news90///news.nateimg.co.kr/orgImg/xs/2025/04/12/1744420096833034.jpg\"/>"
      ],
      "text/plain": [
       "<IPython.core.display.Image object>"
      ]
     },
     "metadata": {},
     "output_type": "display_data"
    },
    {
     "name": "stdout",
     "output_type": "stream",
     "text": [
      "'신의 탑: 새로운 세계', 홀로라이브와 컬래버ing…모리 칼리오페·토코야미 토와 등장\n",
      "============>> 4\n",
      "https://news.nate.com/view/20250412n06018?mid=n0600\n",
      "https://thumbnews.nateimg.co.kr/news90///news.nateimg.co.kr/orgImg/xs/2025/04/12/1744414864848777.jpg\n"
     ]
    },
    {
     "data": {
      "text/html": [
       "<img src=\"https://thumbnews.nateimg.co.kr/news90///news.nateimg.co.kr/orgImg/xs/2025/04/12/1744414864848777.jpg\"/>"
      ],
      "text/plain": [
       "<IPython.core.display.Image object>"
      ]
     },
     "metadata": {},
     "output_type": "display_data"
    },
    {
     "name": "stdout",
     "output_type": "stream",
     "text": [
      "11비트 스튜디오, SF 어드벤처 신작 '디 얼터스' 6월 13일 출시\n",
      "============>> 5\n",
      "https://news.nate.com/view/20250412n05732?mid=n0600\n",
      "https://thumbnews.nateimg.co.kr/news90///news.nateimg.co.kr/orgImg/xs/2025/04/12/1744411820386901.jpg\n"
     ]
    },
    {
     "data": {
      "text/html": [
       "<img src=\"https://thumbnews.nateimg.co.kr/news90///news.nateimg.co.kr/orgImg/xs/2025/04/12/1744411820386901.jpg\"/>"
      ],
      "text/plain": [
       "<IPython.core.display.Image object>"
      ]
     },
     "metadata": {},
     "output_type": "display_data"
    },
    {
     "name": "stdout",
     "output_type": "stream",
     "text": [
      "'쿠키런: 킹덤', '찬란하게 빛나는 정화의 불꽃' 업데이트…'불꽃정령 쿠키' 추가\n",
      "============>> 6\n",
      "https://news.nate.com/view/20250412n04717?mid=n0600\n",
      "https://thumbnews.nateimg.co.kr/news90///news.nateimg.co.kr/orgImg/xs/2025/04/12/1744409743034027.jpg\n"
     ]
    },
    {
     "data": {
      "text/html": [
       "<img src=\"https://thumbnews.nateimg.co.kr/news90///news.nateimg.co.kr/orgImg/xs/2025/04/12/1744409743034027.jpg\"/>"
      ],
      "text/plain": [
       "<IPython.core.display.Image object>"
      ]
     },
     "metadata": {},
     "output_type": "display_data"
    },
    {
     "name": "stdout",
     "output_type": "stream",
     "text": [
      "웹젠, 2025년 상반기 채용 연계형 인턴십 접수 시작…근무 평가 후 정직원 전환\n",
      "============>> 7\n",
      "https://news.nate.com/view/20250412n04386?mid=n0600\n",
      "https://thumbnews.nateimg.co.kr/news90///news.nateimg.co.kr/orgImg/xs/2025/04/12/1744418302635479.jpg\n"
     ]
    },
    {
     "data": {
      "text/html": [
       "<img src=\"https://thumbnews.nateimg.co.kr/news90///news.nateimg.co.kr/orgImg/xs/2025/04/12/1744418302635479.jpg\"/>"
      ],
      "text/plain": [
       "<IPython.core.display.Image object>"
      ]
     },
     "metadata": {},
     "output_type": "display_data"
    },
    {
     "name": "stdout",
     "output_type": "stream",
     "text": [
      "'클레르 옵스퀴르: 33 원정대', 신규 캐릭터 '모노코' 트레일러 공개…24일 정식 출시\n",
      "============>> 8\n",
      "https://news.nate.com/view/20250412n01046?mid=n0600\n",
      "https://thumbnews.nateimg.co.kr/news90///news.nateimg.co.kr/orgImg/fn/2025/04/12/202504111948307452_l.jpg\n"
     ]
    },
    {
     "data": {
      "text/html": [
       "<img src=\"https://thumbnews.nateimg.co.kr/news90///news.nateimg.co.kr/orgImg/fn/2025/04/12/202504111948307452_l.jpg\"/>"
      ],
      "text/plain": [
       "<IPython.core.display.Image object>"
      ]
     },
     "metadata": {},
     "output_type": "display_data"
    },
    {
     "name": "stdout",
     "output_type": "stream",
     "text": [
      "30대女, 화장실 20번씩 들락날락…'이 질환' 뭐길래 [헬스톡]\n",
      "============>> 9\n",
      "https://news.nate.com/view/20250412n03984?mid=n0600\n",
      "https://thumbnews.nateimg.co.kr/news90///news.nateimg.co.kr/orgImg/sh/2025/04/12/6894904_1135579_1552.jpg\n"
     ]
    },
    {
     "data": {
      "text/html": [
       "<img src=\"https://thumbnews.nateimg.co.kr/news90///news.nateimg.co.kr/orgImg/sh/2025/04/12/6894904_1135579_1552.jpg\"/>"
      ],
      "text/plain": [
       "<IPython.core.display.Image object>"
      ]
     },
     "metadata": {},
     "output_type": "display_data"
    },
    {
     "name": "stdout",
     "output_type": "stream",
     "text": [
      "넥써쓰, 두바이 지사 설립…\"생태계 확장 중심 거점될 것\"\n",
      "============>> 10\n",
      "https://news.nate.com/view/20250412n03980?mid=n0600\n",
      "https://thumbnews.nateimg.co.kr/news90///news.nateimg.co.kr/orgImg/ed/2025/04/12/PS25041100239.jpg\n"
     ]
    },
    {
     "data": {
      "text/html": [
       "<img src=\"https://thumbnews.nateimg.co.kr/news90///news.nateimg.co.kr/orgImg/ed/2025/04/12/PS25041100239.jpg\"/>"
      ],
      "text/plain": [
       "<IPython.core.display.Image object>"
      ]
     },
     "metadata": {},
     "output_type": "display_data"
    },
    {
     "name": "stdout",
     "output_type": "stream",
     "text": [
      "3billion, Prestige BioPharma Jump on Tariff Optimism[K-bio Pulse]\n",
      "============>> 11\n",
      "https://news.nate.com/view/20250412n03974?mid=n0600\n",
      "https://thumbnews.nateimg.co.kr/news90///news.nateimg.co.kr/orgImg/ed/2025/04/12/PS25041100237.jpg\n"
     ]
    },
    {
     "data": {
      "text/html": [
       "<img src=\"https://thumbnews.nateimg.co.kr/news90///news.nateimg.co.kr/orgImg/ed/2025/04/12/PS25041100237.jpg\"/>"
      ],
      "text/plain": [
       "<IPython.core.display.Image object>"
      ]
     },
     "metadata": {},
     "output_type": "display_data"
    },
    {
     "name": "stdout",
     "output_type": "stream",
     "text": [
      "'유예'에 투심 반짝…쓰리빌리언, 프레스티지 10%↑[바이오맥짚기]\n",
      "============>> 12\n",
      "https://news.nate.com/view/20250412n03965?mid=n0600\n",
      "https://thumbnews.nateimg.co.kr/news90///news.nateimg.co.kr/orgImg/xs/2025/04/12/1744417291046390.jpeg\n"
     ]
    },
    {
     "data": {
      "text/html": [
       "<img src=\"https://thumbnews.nateimg.co.kr/news90///news.nateimg.co.kr/orgImg/xs/2025/04/12/1744417291046390.jpeg\"/>"
      ],
      "text/plain": [
       "<IPython.core.display.Image object>"
      ]
     },
     "metadata": {},
     "output_type": "display_data"
    },
    {
     "name": "stdout",
     "output_type": "stream",
     "text": [
      "위메이드, '나이트 크로우' 2주년 맞아 대규모 업데이트…사전 예약ing\n",
      "============>> 13\n",
      "https://news.nate.com/view/20250412n03946?mid=n0600\n",
      "https://thumbnews.nateimg.co.kr/news90///news.nateimg.co.kr/orgImg/ed/2025/04/12/PS25041200178.jpg\n"
     ]
    },
    {
     "data": {
      "text/html": [
       "<img src=\"https://thumbnews.nateimg.co.kr/news90///news.nateimg.co.kr/orgImg/ed/2025/04/12/PS25041200178.jpg\"/>"
      ],
      "text/plain": [
       "<IPython.core.display.Image object>"
      ]
     },
     "metadata": {},
     "output_type": "display_data"
    },
    {
     "name": "stdout",
     "output_type": "stream",
     "text": [
      "머스크, NASA 예산 삭감 비판…DOGE 책임자 물러나나\n",
      "============>> 14\n",
      "https://news.nate.com/view/20250412n03728?mid=n0600\n",
      "https://thumbnews.nateimg.co.kr/news90///news.nateimg.co.kr/orgImg/yt/2025/04/12/PYH2025041200890001700_P2.jpg\n"
     ]
    },
    {
     "data": {
      "text/html": [
       "<img src=\"https://thumbnews.nateimg.co.kr/news90///news.nateimg.co.kr/orgImg/yt/2025/04/12/PYH2025041200890001700_P2.jpg\"/>"
      ],
      "text/plain": [
       "<IPython.core.display.Image object>"
      ]
     },
     "metadata": {},
     "output_type": "display_data"
    },
    {
     "name": "stdout",
     "output_type": "stream",
     "text": [
      "'구글 클라우드 넥스트 2025'에서 공개된 7세대 TPU '아이언우드'\n",
      "============>> 15\n",
      "https://news.nate.com/view/20250412n03669?mid=n0600\n",
      "https://thumbnews.nateimg.co.kr/news90///news.nateimg.co.kr/orgImg/ed/2025/04/12/PS25041200171.jpg\n"
     ]
    },
    {
     "data": {
      "text/html": [
       "<img src=\"https://thumbnews.nateimg.co.kr/news90///news.nateimg.co.kr/orgImg/ed/2025/04/12/PS25041200171.jpg\"/>"
      ],
      "text/plain": [
       "<IPython.core.display.Image object>"
      ]
     },
     "metadata": {},
     "output_type": "display_data"
    },
    {
     "name": "stdout",
     "output_type": "stream",
     "text": [
      "술자리 면접 논란까지…백종원 더본코리아, 고용부 조사 받는다\n",
      "============>> 16\n",
      "https://news.nate.com/view/20250412n01254?mid=n0600\n",
      "https://thumbnews.nateimg.co.kr/news90///news.nateimg.co.kr/orgImg/cb/2025/04/12/202504091542185328.gif\n"
     ]
    },
    {
     "data": {
      "text/html": [
       "<img src=\"https://thumbnews.nateimg.co.kr/news90///news.nateimg.co.kr/orgImg/cb/2025/04/12/202504091542185328.gif\"/>"
      ],
      "text/plain": [
       "<IPython.core.display.Image object>"
      ]
     },
     "metadata": {},
     "output_type": "display_data"
    },
    {
     "name": "stdout",
     "output_type": "stream",
     "text": [
      "천문학계 골드러시 시작?…유클리드 첫 과학 데이터 꾸러미 공개[코스모스토리]\n",
      "============>> 17\n",
      "https://news.nate.com/view/20250412n03646?mid=n0600\n",
      "https://thumbnews.nateimg.co.kr/news90///news.nateimg.co.kr/orgImg/xs/2025/04/12/1744415468554637.jpg\n"
     ]
    },
    {
     "data": {
      "text/html": [
       "<img src=\"https://thumbnews.nateimg.co.kr/news90///news.nateimg.co.kr/orgImg/xs/2025/04/12/1744415468554637.jpg\"/>"
      ],
      "text/plain": [
       "<IPython.core.display.Image object>"
      ]
     },
     "metadata": {},
     "output_type": "display_data"
    },
    {
     "name": "stdout",
     "output_type": "stream",
     "text": [
      "넷마블, '나 혼자만 레벨업: 어라이즈' 신규 SSR 헌터 '서린' 추가…출석 이벤트 진행\n",
      "============>> 18\n",
      "https://news.nate.com/view/20250412n01260?mid=n0600\n",
      "https://thumbnews.nateimg.co.kr/news90///news.nateimg.co.kr/orgImg/cb/2025/04/12/202504112237312491_0.jpg\n"
     ]
    },
    {
     "data": {
      "text/html": [
       "<img src=\"https://thumbnews.nateimg.co.kr/news90///news.nateimg.co.kr/orgImg/cb/2025/04/12/202504112237312491_0.jpg\"/>"
      ],
      "text/plain": [
       "<IPython.core.display.Image object>"
      ]
     },
     "metadata": {},
     "output_type": "display_data"
    },
    {
     "name": "stdout",
     "output_type": "stream",
     "text": [
      "\"50년 된 게임기 보러올래?\" 구로 터줏대감, 넷마블 [왓츠인마이오피스]\n",
      "============>> 19\n",
      "https://news.nate.com/view/20250412n03175?mid=n0600\n",
      "https://thumbnews.nateimg.co.kr/news90///news.nateimg.co.kr/orgImg/ed/2025/04/12/PS25041200155.jpg\n"
     ]
    },
    {
     "data": {
      "text/html": [
       "<img src=\"https://thumbnews.nateimg.co.kr/news90///news.nateimg.co.kr/orgImg/ed/2025/04/12/PS25041200155.jpg\"/>"
      ],
      "text/plain": [
       "<IPython.core.display.Image object>"
      ]
     },
     "metadata": {},
     "output_type": "display_data"
    },
    {
     "name": "stdout",
     "output_type": "stream",
     "text": [
      "벚꽃 엔딩 어디서 봐? 다 알려주는 이 앱[잇:써봐]\n",
      "============>> 20\n",
      "https://news.nate.com/view/20250412n03203?mid=n0600\n",
      "https://thumbnews.nateimg.co.kr/news90///news.nateimg.co.kr/orgImg/xs/2025/04/12/1744410887020301.jpg\n"
     ]
    },
    {
     "data": {
      "text/html": [
       "<img src=\"https://thumbnews.nateimg.co.kr/news90///news.nateimg.co.kr/orgImg/xs/2025/04/12/1744410887020301.jpg\"/>"
      ],
      "text/plain": [
       "<IPython.core.display.Image object>"
      ]
     },
     "metadata": {},
     "output_type": "display_data"
    },
    {
     "name": "stdout",
     "output_type": "stream",
     "text": [
      "넷마블, '세븐나이츠 리버스' 모델 '밤양갱' 비비 촬영 스케치컷 공개\n"
     ]
    }
   ],
   "source": [
    "import requests\n",
    "from bs4 import BeautifulSoup\n",
    "from urllib.parse import urljoin\n",
    "from IPython.display import Image, display\n",
    "\n",
    "section_dict = {'최신뉴스':'n0100','정치':'n0200','경제':'n0300','사회':'n0400',\\\n",
    "                '세계':'n0500','IT/과학':'n0600'}\n",
    "print(section_dict)\n",
    "\n",
    "def print_news(section_name):    \n",
    "    m_id = section_dict[section_name]\n",
    "\n",
    "    url = f'https://news.nate.com/recent?mid={m_id}'\n",
    "    print(url)\n",
    "\n",
    "    req_header = {\n",
    "        'user-agent': 'Mozilla/5.0 (Windows NT 10.0; Win64; x64) AppleWebKit/537.36 (KHTML, like Gecko) Chrome/104.0.0.0 Safari/537.36'\n",
    "    }\n",
    "\n",
    "    res = requests.get(url, headers=req_header)\n",
    "    print(type(res))\n",
    "    print(res.status_code)\n",
    "\n",
    "    if res.ok:\n",
    "        res.encoding = 'euc-kr'\n",
    "        html = res.text\n",
    "        soup = BeautifulSoup(html, 'html.parser')\n",
    "\n",
    "        print(f'======> {url} {section_name} 뉴스 <======')   \n",
    "\n",
    "        tags = soup.select(\"div.postListType.noListTitle div.mlt01\")\n",
    "        print(len(tags))\n",
    "\n",
    "        for idx,div_tag in enumerate(tags,1): \n",
    "            print(f'============>> {idx}')       \n",
    "            a_tag = div_tag.find('a')\n",
    "            a_join_url = urljoin(url,a_tag['href'])\n",
    "            print(a_join_url)\n",
    "\n",
    "            img_tag = div_tag.select_one('span.ib img')\n",
    "            if img_tag:\n",
    "                photo_url = urljoin(url,img_tag['src'])\n",
    "                print(photo_url)\n",
    "                display(Image(url=photo_url))\n",
    "\n",
    "            h2_tag = div_tag.select_one('span.tb h2.tit')\n",
    "            title = h2_tag.text\n",
    "            print(title)\n",
    "\n",
    "    else:\n",
    "        print(f'에러코드 = {res.status_code}')\n",
    "\n",
    "print_news('IT/과학')"
   ]
  }
 ],
 "metadata": {
  "kernelspec": {
   "display_name": "base",
   "language": "python",
   "name": "python3"
  },
  "language_info": {
   "codemirror_mode": {
    "name": "ipython",
    "version": 3
   },
   "file_extension": ".py",
   "mimetype": "text/x-python",
   "name": "python",
   "nbconvert_exporter": "python",
   "pygments_lexer": "ipython3",
   "version": "3.12.7"
  }
 },
 "nbformat": 4,
 "nbformat_minor": 5
}
